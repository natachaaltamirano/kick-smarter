{
 "cells": [
  {
   "cell_type": "code",
   "execution_count": 407,
   "metadata": {},
   "outputs": [],
   "source": [
    "% matplotlib inline\n",
    "import matplotlib.pyplot as plt\n",
    "import pandas as pd\n",
    "import numpy as np\n",
    "import requests\n",
    "from bs4 import BeautifulSoup\n",
    "import json\n",
    "import time\n",
    "from time import strftime\n",
    "from datetime import datetime\n",
    "import matplotlib \n",
    "from IPython.core.display import clear_output\n",
    "from sklearn.externals import joblib\n",
    "import seaborn as sns\n",
    "import re\n",
    "#import nlkt\n",
    "\n",
    "from sklearn.model_selection import train_test_split\n",
    "\n",
    "from sklearn.linear_model import LogisticRegression\n",
    "\n",
    "from sklearn.metrics import confusion_matrix\n",
    "import itertools\n",
    "\n",
    "from sklearn.metrics import roc_curve, auc\n",
    "from sklearn.metrics import classification_report"
   ]
  },
  {
   "cell_type": "code",
   "execution_count": 408,
   "metadata": {},
   "outputs": [],
   "source": [
    "bins=np.arange(0,50000+1000,1000)"
   ]
  },
  {
   "cell_type": "code",
   "execution_count": 409,
   "metadata": {},
   "outputs": [
    {
     "data": {
      "text/plain": [
       "array([    0,  1000,  2000,  3000,  4000,  5000,  6000,  7000,  8000,\n",
       "        9000, 10000, 11000, 12000, 13000, 14000, 15000, 16000, 17000,\n",
       "       18000, 19000, 20000, 21000, 22000, 23000, 24000, 25000, 26000,\n",
       "       27000, 28000, 29000, 30000, 31000, 32000, 33000, 34000, 35000,\n",
       "       36000, 37000, 38000, 39000, 40000, 41000, 42000, 43000, 44000,\n",
       "       45000, 46000, 47000, 48000, 49000, 50000])"
      ]
     },
     "execution_count": 409,
     "metadata": {},
     "output_type": "execute_result"
    }
   ],
   "source": [
    "bins"
   ]
  },
  {
   "cell_type": "code",
   "execution_count": 410,
   "metadata": {},
   "outputs": [],
   "source": [
    "features = joblib.load('/Users/natacha/Documents/Insight/Final Features/Final_Features_{}-{}.pkl'.format(\n",
    "            0,\n",
    "            999))\n",
    "\n",
    "features=features.drop(columns=[\"index0\",\"index1\"])\n",
    "\n",
    "for i in range(1,len(bins)-1):\n",
    "    \n",
    "    star_ID = bins[i]\n",
    "    fin_ID = bins[i+1]\n",
    "    \n",
    "    ff = joblib.load('/Users/natacha/Documents/Insight/Final Features/Final_Features_{}-{}.pkl'.format(\n",
    "            star_ID,\n",
    "            fin_ID-1))\n",
    "    ff=ff.drop(columns=[\"index0\",\"index1\"])\n",
    "    \n",
    "    features = pd.concat([features,ff])\n",
    "    "
   ]
  },
  {
   "cell_type": "code",
   "execution_count": 422,
   "metadata": {},
   "outputs": [],
   "source": [
    "features[\"words_x_perk\"]=features[\"num_of_words_perks\"]/features[\"num_perks\"]\n",
    "\n",
    "features=features.apply(lambda x: x.fillna(x.mean()),axis=0);"
   ]
  },
  {
   "cell_type": "code",
   "execution_count": 492,
   "metadata": {},
   "outputs": [
    {
     "data": {
      "text/plain": [
       "goal                    False\n",
       "founded_bool            False\n",
       "code                    False\n",
       "num_videos              False\n",
       "num_pics                False\n",
       "num_perks               False\n",
       "num_links               False\n",
       "num_of_sent_about       False\n",
       "num_of_sent_risk        False\n",
       "num_of_sent_perks       False\n",
       "num_of_words_about      False\n",
       "num_of_words_risk       False\n",
       "num_of_words_perks      False\n",
       "freq_bold_A             False\n",
       "freq_bold_R             False\n",
       "freq_italic_A           False\n",
       "freq_italic_R           False\n",
       "num_of_exclamation_A    False\n",
       "num_of_exclamation_R    False\n",
       "num_of_exclamation_P    False\n",
       "bool_A                  False\n",
       "bool_P                  False\n",
       "bool_R                  False\n",
       "freq_pitch_A            False\n",
       "freq_pitch_R            False\n",
       "freq_pitch_P            False\n",
       "words_x_perk            False\n",
       "dtype: bool"
      ]
     },
     "execution_count": 492,
     "metadata": {},
     "output_type": "execute_result"
    }
   ],
   "source": [
    "features.isnull().any()"
   ]
  },
  {
   "cell_type": "code",
   "execution_count": 495,
   "metadata": {},
   "outputs": [],
   "source": [
    "features1=features[features[\"goal\"]<10000]"
   ]
  },
  {
   "cell_type": "code",
   "execution_count": 425,
   "metadata": {},
   "outputs": [],
   "source": [
    "def plot_confusion_matrix(cm, classes,\n",
    "                          normalize=False,\n",
    "                          title='Confusion matrix',\n",
    "                          cmap=plt.cm.Blues):\n",
    "    \"\"\"\n",
    "    This function prints and plots the confusion matrix.\n",
    "    Normalization can be applied by setting `normalize=True`.\n",
    "    \"\"\"\n",
    "    if normalize:\n",
    "        cm = cm.astype('float') / cm.sum(axis=1)[:, np.newaxis]\n",
    "        print(\"Normalized confusion matrix\")\n",
    "    else:\n",
    "        print('Confusion matrix, without normalization')\n",
    "\n",
    "    print(cm)\n",
    "\n",
    "    plt.imshow(cm, interpolation='nearest', cmap=cmap)\n",
    "    plt.title(title)\n",
    "    plt.colorbar()\n",
    "    tick_marks = np.arange(len(classes))\n",
    "    plt.xticks(tick_marks, classes, rotation=45)\n",
    "    plt.yticks(tick_marks, classes)\n",
    "\n",
    "    fmt = '.2f' if normalize else 'd'\n",
    "    thresh = cm.max() / 2.\n",
    "    for i, j in itertools.product(range(cm.shape[0]), range(cm.shape[1])):\n",
    "        plt.text(j, i, format(cm[i, j], fmt),\n",
    "                 horizontalalignment=\"center\",\n",
    "                 color=\"white\" if cm[i, j] > thresh else \"black\")\n",
    "\n",
    "    plt.tight_layout()\n",
    "    plt.ylabel('True label')\n",
    "    plt.xlabel('Predicted label')"
   ]
  },
  {
   "cell_type": "code",
   "execution_count": 496,
   "metadata": {},
   "outputs": [
    {
     "data": {
      "text/plain": [
       "27"
      ]
     },
     "execution_count": 496,
     "metadata": {},
     "output_type": "execute_result"
    }
   ],
   "source": [
    "len(features1.keys())"
   ]
  },
  {
   "cell_type": "code",
   "execution_count": 660,
   "metadata": {},
   "outputs": [],
   "source": [
    "# I am removing bool_A bool_P since for no algorithm they make a difference\n",
    "\n",
    "target=features1[\"founded_bool\"]\n",
    "data=features1.drop(columns=[\"founded_bool\",\"bool_A\",\"bool_P\",\"num_of_words_perks\",\"goal\"])\n",
    "x_train, x_test, y_train, y_test = train_test_split(data, target, test_size=0.25, random_state=10)"
   ]
  },
  {
   "cell_type": "code",
   "execution_count": 641,
   "metadata": {},
   "outputs": [
    {
     "data": {
      "text/plain": [
       "Index(['code', 'num_videos', 'num_pics', 'num_perks', 'num_links',\n",
       "       'num_of_sent_about', 'num_of_sent_risk', 'num_of_sent_perks',\n",
       "       'num_of_words_about', 'num_of_words_risk', 'freq_bold_A', 'freq_bold_R',\n",
       "       'freq_italic_A', 'freq_italic_R', 'num_of_exclamation_A',\n",
       "       'num_of_exclamation_R', 'num_of_exclamation_P', 'bool_R',\n",
       "       'freq_pitch_A', 'freq_pitch_R', 'freq_pitch_P', 'words_x_perk'],\n",
       "      dtype='object')"
      ]
     },
     "execution_count": 641,
     "metadata": {},
     "output_type": "execute_result"
    }
   ],
   "source": [
    "data.keys()"
   ]
  },
  {
   "cell_type": "markdown",
   "metadata": {},
   "source": [
    "# Models\n",
    "\n",
    "Decission Tree -> Hyper={}, name=clf_DS\n",
    "\n",
    "Random Forest -> Hyper={}, name=clf_RF\n",
    "\n",
    "EXTRA Tree -> Hyper={}, name=clf_ET\n",
    "\n",
    "ADABoost -> Hyper={}, name=clf_AB\n",
    "\n",
    "\n",
    "\n",
    "#### We will use the  model which can get higher pression after a warm start and after doing a 15-fold crossvalidation"
   ]
  },
  {
   "cell_type": "code",
   "execution_count": 642,
   "metadata": {},
   "outputs": [],
   "source": [
    "mean_presition={}\n",
    "feature_importance={}\n",
    "ROC_mean={}"
   ]
  },
  {
   "cell_type": "markdown",
   "metadata": {},
   "source": [
    "# Random Forest"
   ]
  },
  {
   "cell_type": "code",
   "execution_count": 599,
   "metadata": {},
   "outputs": [],
   "source": [
    "from sklearn.ensemble import RandomForestClassifier\n",
    "from sklearn import metrics\n",
    "from sklearn.metrics import roc_curve, auc\n",
    "from sklearn.metrics import classification_report\n",
    "from itertools import cycle\n",
    "\n",
    "from sklearn import svm, datasets\n",
    "from sklearn.metrics import roc_curve, auc\n",
    "from sklearn.model_selection import StratifiedKFold\n",
    "\n"
   ]
  },
  {
   "cell_type": "code",
   "execution_count": 643,
   "metadata": {},
   "outputs": [],
   "source": [
    "def mean_roc(fprs, tprs):\n",
    "    tprs_interp = []\n",
    "    aucs = []\n",
    "    mean_fpr = np.linspace(0, 1, 100)\n",
    "    \n",
    "    \n",
    "    for i, (fpr, tpr) in enumerate(zip(fprs, tprs)):\n",
    "        tprs_interp.append(np.interp(mean_fpr, fpr, tpr))\n",
    "        tprs_interp[-1][0] = 0.0\n",
    "        roc_auc = auc(fpr, tpr)\n",
    "        aucs.append(roc_auc)\n",
    "        #ax.plot(fpr, tpr, lw=1, alpha=0.3,\n",
    "                 #label='ROC fold %d (AUC = %0.2f)' % (i, roc_auc))\n",
    "            \n",
    "    mean_tpr = np.mean(tprs_interp, axis=0)\n",
    "    mean_tpr[-1] = 1.0\n",
    "    mean_auc = auc(mean_fpr, mean_tpr)\n",
    "    std_auc = np.std(aucs)\n",
    "    #ax.plot(mean_fpr, mean_tpr, color='b',\n",
    "             #label=r'Mean ROC (AUC = %0.2f $\\pm$ %0.2f)' % (mean_auc, std_auc),\n",
    "             #lw=2, alpha=.8)    \n",
    "            \n",
    "    return (mean_fpr, mean_tpr)        "
   ]
  },
  {
   "cell_type": "code",
   "execution_count": 644,
   "metadata": {},
   "outputs": [],
   "source": [
    "def compute_roc_auc(index):\n",
    "    y_predict = clf_RF.predict_proba(x_train.iloc[index])[:,1]\n",
    "    fpr, tpr, thresholds = roc_curve(y_train.iloc[index], y_predict)\n",
    "    auc_score = auc(fpr, tpr)\n",
    "    return fpr, tpr, auc_score"
   ]
  },
  {
   "cell_type": "code",
   "execution_count": 645,
   "metadata": {},
   "outputs": [],
   "source": [
    "clf_RF = RandomForestClassifier(\n",
    "    n_estimators=150,\n",
    "    criterion='gini',\n",
    "    max_depth=13,\n",
    "    min_samples_split=2,\n",
    "    min_samples_leaf=1,\n",
    "    min_weight_fraction_leaf=0.0,\n",
    "    max_features='auto',\n",
    "    max_leaf_nodes=None,\n",
    "    min_impurity_decrease=0.0,\n",
    "    min_impurity_split=None,\n",
    "    bootstrap=True,\n",
    "    oob_score=False,\n",
    "    n_jobs=-1,\n",
    "    random_state=0,\n",
    "    verbose=0,\n",
    "    warm_start=True)\n",
    "    #class_weight='balanced'\n",
    "#)"
   ]
  },
  {
   "cell_type": "code",
   "execution_count": 646,
   "metadata": {
    "scrolled": false
   },
   "outputs": [
    {
     "name": "stdout",
     "output_type": "stream",
     "text": [
      "The test score is:  0.7360327768752741  train:  0.8670146372419093\n",
      "The test score is:  0.8479093541989061  train:  0.8365584273905373\n",
      "The test score is:  0.8614075419449142  train:  0.8338363940871764\n",
      "The test score is:  0.8679908425321399  train:  0.8313152488412318\n",
      "The test score is:  0.864440001215943  train:  0.8325114987522292\n"
     ]
    }
   ],
   "source": [
    "cv = StratifiedKFold(n_splits=5, random_state=123, shuffle=True)\n",
    "results = pd.DataFrame(columns=['training_score', 'test_score'])\n",
    "fprs, tprs, scores, prec= [], [], [], []\n",
    "    \n",
    "#for (train, test), i in zip(cv.split(data, target), range(20)):\n",
    "for (train, test), i in zip(cv.split(x_train, y_train), range(5)):\n",
    "     \n",
    "    #print(i)\n",
    "    clf_RF.n_estimators += 10\n",
    "    #clf.fit(data.iloc[train], target.iloc[train])\n",
    "    clf_RF.fit(x_train.iloc[train], y_train.iloc[train])\n",
    "    \n",
    "    predictions=clf_RF.predict(x_train.iloc[test])\n",
    "    predictions2=clf_RF.predict(x_train.iloc[train])\n",
    "    \n",
    "    prec.append(metrics.average_precision_score(y_train.iloc[test],predictions))\n",
    "    \n",
    "    \n",
    "    \n",
    "    _, _, auc_score_train = compute_roc_auc(train)\n",
    "    \n",
    "    fpr, tpr, auc_score = compute_roc_auc(test)\n",
    "    \n",
    "    score = clf_RF.score(x_train.iloc[test], y_train.iloc[test])\n",
    "    #predictions=clf.predict(x_train.iloc[test])\n",
    "\n",
    "\n",
    "    prec1=metrics.average_precision_score(y_train.iloc[test],predictions)\n",
    "    prec2=metrics.average_precision_score(y_train.iloc[train],predictions2)\n",
    "    print(\"The test score is: \", prec1,\" train: \",prec2)\n",
    "    \n",
    "    #score = clf.score(x_train, y_train)\n",
    "    #print(\"The train score is: \",score)\n",
    "    \n",
    "    #feature_importance[\"RF\"]=clf_RF.feature_importances_\n",
    "    scores.append((auc_score_train, auc_score))\n",
    "    clf_RF.feature_importances_\n",
    "    fprs.append(fpr)\n",
    "    tprs.append(tpr)\n",
    "\n",
    "feature_importance[\"RF\"]=clf_RF.feature_importances_\n",
    "ROC_mean[\"RF\"]=mean_roc(fprs,tprs)\n",
    "mean_presition[\"RF\"]=np.mean(prec)\n",
    "#plot_roc_curve(fprs, tprs);\n",
    "#pd.DataFrame(scores, columns=['AUC Train', 'AUC Test'])"
   ]
  },
  {
   "cell_type": "code",
   "execution_count": 636,
   "metadata": {},
   "outputs": [
    {
     "data": {
      "text/plain": [
       "['trained_clf.pkl']"
      ]
     },
     "execution_count": 636,
     "metadata": {},
     "output_type": "execute_result"
    }
   ],
   "source": [
    " #for the model that predicts probability I have trained with the goal\n",
    "    # precission =0.84\n",
    "    #auc=0.8\n",
    "    \n",
    "    #Index(['goal', 'code', 'num_videos', 'num_pics', 'num_perks', 'num_links',\n",
    "       #'num_of_sent_about', 'num_of_sent_risk', 'num_of_sent_perks',\n",
    "       #'num_of_words_about', 'num_of_words_risk', 'freq_bold_A', 'freq_bold_R',\n",
    "       #'freq_italic_A', 'freq_italic_R', 'num_of_exclamation_A',\n",
    "       #'num_of_exclamation_R', 'num_of_exclamation_P', 'bool_R',\n",
    "       #'freq_pitch_A', 'freq_pitch_R', 'freq_pitch_P', 'words_x_perk'],\n",
    "     # dtype='object')\n",
    "joblib.dump(clf_RF, 'trained_clf.pkl')"
   ]
  },
  {
   "cell_type": "code",
   "execution_count": 436,
   "metadata": {},
   "outputs": [
    {
     "data": {
      "text/plain": [
       "RandomForestClassifier(bootstrap=True, class_weight=None, criterion='gini',\n",
       "            max_depth=13, max_features='auto', max_leaf_nodes=None,\n",
       "            min_impurity_decrease=0.0, min_impurity_split=None,\n",
       "            min_samples_leaf=2, min_samples_split=2,\n",
       "            min_weight_fraction_leaf=0.0, n_estimators=310, n_jobs=-1,\n",
       "            oob_score=False, random_state=0, verbose=0, warm_start=True)"
      ]
     },
     "execution_count": 436,
     "metadata": {},
     "output_type": "execute_result"
    }
   ],
   "source": [
    "clf_RF.n_estimators += 10\n",
    "clf_RF.fit(x_train,y_train)"
   ]
  },
  {
   "cell_type": "code",
   "execution_count": 647,
   "metadata": {},
   "outputs": [
    {
     "data": {
      "text/plain": [
       "0.7395971535399831"
      ]
     },
     "execution_count": 647,
     "metadata": {},
     "output_type": "execute_result"
    }
   ],
   "source": [
    "clf_RF.score(x_test,y_test)"
   ]
  },
  {
   "cell_type": "code",
   "execution_count": 631,
   "metadata": {},
   "outputs": [],
   "source": [
    "predictions=clf_RF.predict(x_test)"
   ]
  },
  {
   "cell_type": "code",
   "execution_count": 632,
   "metadata": {},
   "outputs": [
    {
     "name": "stdout",
     "output_type": "stream",
     "text": [
      "             precision    recall  f1-score   support\n",
      "\n",
      "      False       0.75      0.53      0.62      3174\n",
      "       True       0.75      0.89      0.82      5117\n",
      "\n",
      "avg / total       0.75      0.75      0.74      8291\n",
      "\n"
     ]
    }
   ],
   "source": [
    "print(classification_report(y_test,predictions))"
   ]
  },
  {
   "cell_type": "code",
   "execution_count": 618,
   "metadata": {},
   "outputs": [
    {
     "data": {
      "text/plain": [
       "0.9168073984720547"
      ]
     },
     "execution_count": 618,
     "metadata": {},
     "output_type": "execute_result"
    }
   ],
   "source": [
    "clf_RF.score(x_train,y_train)"
   ]
  },
  {
   "cell_type": "code",
   "execution_count": 633,
   "metadata": {},
   "outputs": [
    {
     "data": {
      "text/plain": [
       "0.8470999739503512"
      ]
     },
     "execution_count": 633,
     "metadata": {},
     "output_type": "execute_result"
    }
   ],
   "source": [
    "mean_presition[\"RF\"]"
   ]
  },
  {
   "cell_type": "code",
   "execution_count": 648,
   "metadata": {},
   "outputs": [],
   "source": [
    "auc_RF=pd.DataFrame(scores, columns=['AUC Train', 'AUC Test'])"
   ]
  },
  {
   "cell_type": "code",
   "execution_count": 635,
   "metadata": {},
   "outputs": [
    {
     "data": {
      "text/html": [
       "<div>\n",
       "<style scoped>\n",
       "    .dataframe tbody tr th:only-of-type {\n",
       "        vertical-align: middle;\n",
       "    }\n",
       "\n",
       "    .dataframe tbody tr th {\n",
       "        vertical-align: top;\n",
       "    }\n",
       "\n",
       "    .dataframe thead th {\n",
       "        text-align: right;\n",
       "    }\n",
       "</style>\n",
       "<table border=\"1\" class=\"dataframe\">\n",
       "  <thead>\n",
       "    <tr style=\"text-align: right;\">\n",
       "      <th></th>\n",
       "      <th>AUC Train</th>\n",
       "      <th>AUC Test</th>\n",
       "    </tr>\n",
       "  </thead>\n",
       "  <tbody>\n",
       "    <tr>\n",
       "      <th>0</th>\n",
       "      <td>0.973434</td>\n",
       "      <td>0.808565</td>\n",
       "    </tr>\n",
       "    <tr>\n",
       "      <th>1</th>\n",
       "      <td>0.943440</td>\n",
       "      <td>0.967710</td>\n",
       "    </tr>\n",
       "    <tr>\n",
       "      <th>2</th>\n",
       "      <td>0.944789</td>\n",
       "      <td>0.969090</td>\n",
       "    </tr>\n",
       "    <tr>\n",
       "      <th>3</th>\n",
       "      <td>0.945153</td>\n",
       "      <td>0.972076</td>\n",
       "    </tr>\n",
       "    <tr>\n",
       "      <th>4</th>\n",
       "      <td>0.946867</td>\n",
       "      <td>0.970956</td>\n",
       "    </tr>\n",
       "  </tbody>\n",
       "</table>\n",
       "</div>"
      ],
      "text/plain": [
       "   AUC Train  AUC Test\n",
       "0   0.973434  0.808565\n",
       "1   0.943440  0.967710\n",
       "2   0.944789  0.969090\n",
       "3   0.945153  0.972076\n",
       "4   0.946867  0.970956"
      ]
     },
     "execution_count": 635,
     "metadata": {},
     "output_type": "execute_result"
    }
   ],
   "source": [
    "auc_RF"
   ]
  },
  {
   "cell_type": "markdown",
   "metadata": {},
   "source": [
    "# Decission Tree"
   ]
  },
  {
   "cell_type": "code",
   "execution_count": 661,
   "metadata": {},
   "outputs": [],
   "source": [
    "def compute_roc_auc(index):\n",
    "    y_predict = clf_DT.predict_proba(x_train.iloc[index])[:,1]\n",
    "    fpr, tpr, thresholds = roc_curve(y_train.iloc[index], y_predict)\n",
    "    auc_score = auc(fpr, tpr)\n",
    "    return fpr, tpr, auc_score"
   ]
  },
  {
   "cell_type": "code",
   "execution_count": 662,
   "metadata": {},
   "outputs": [],
   "source": [
    "from sklearn import tree\n",
    "#x_train, x_test, y_train, y_test = train_test_split(data, target, test_size=0.25, random_state=10)\n",
    "\n",
    "#rf.fit(x_train, y_train)\n",
    "clf_DT = tree.DecisionTreeClassifier(max_depth=8,\n",
    "    min_samples_split=2,\n",
    "    min_samples_leaf=1)\n",
    "#clf_DT.fit(x_train, y_train)"
   ]
  },
  {
   "cell_type": "code",
   "execution_count": null,
   "metadata": {},
   "outputs": [],
   "source": []
  },
  {
   "cell_type": "code",
   "execution_count": 663,
   "metadata": {
    "scrolled": false
   },
   "outputs": [
    {
     "name": "stdout",
     "output_type": "stream",
     "text": [
      "The test score is:  0.7395940051691808  train:  0.7644341866114184\n",
      "The test score is:  0.7191624864182992  train:  0.7525279728247315\n",
      "The test score is:  0.7258686738124727  train:  0.7540689791595704\n",
      "The test score is:  0.7412756343142248  train:  0.7572795258390945\n",
      "The test score is:  0.7334899814761299  train:  0.7526008279973811\n"
     ]
    }
   ],
   "source": [
    "cv = StratifiedKFold(n_splits=5, random_state=123, shuffle=True)\n",
    "results = pd.DataFrame(columns=['training_score', 'test_score'])\n",
    "fprs, tprs, scores, prec= [], [], [], []\n",
    "    \n",
    "#for (train, test), i in zip(cv.split(data, target), range(20)):\n",
    "for (train, test), i in zip(cv.split(x_train, y_train), range(5)):\n",
    "     \n",
    "    #print(i)\n",
    "    #clf_RF.n_estimators += 10\n",
    "    #clf.fit(data.iloc[train], target.iloc[train])\n",
    "    clf_DT.fit(x_train.iloc[train], y_train.iloc[train])\n",
    "    \n",
    "    predictions=clf_DT.predict(x_train.iloc[test])\n",
    "    predictions2=clf_DT.predict(x_train.iloc[train])\n",
    "    \n",
    "    prec.append(metrics.average_precision_score(y_train.iloc[test],predictions))\n",
    "    \n",
    "    \n",
    "    \n",
    "    _, _, auc_score_train = compute_roc_auc(train)\n",
    "    \n",
    "    fpr, tpr, auc_score = compute_roc_auc(test)\n",
    "    \n",
    "    score = clf_DT.score(x_train.iloc[test], y_train.iloc[test])\n",
    "    #predictions=clf.predict(x_train.iloc[test])\n",
    "\n",
    "\n",
    "    prec1=metrics.average_precision_score(y_train.iloc[test],predictions)\n",
    "    prec2=metrics.average_precision_score(y_train.iloc[train],predictions2)\n",
    "    print(\"The test score is: \", prec1,\" train: \",prec2)\n",
    "    \n",
    "    #score = clf.score(x_train, y_train)\n",
    "    #print(\"The train score is: \",score)\n",
    "    \n",
    "    #feature_importance[\"RF\"]=clf_RF.feature_importances_\n",
    "    scores.append((auc_score_train, auc_score))\n",
    "    clf_DT.feature_importances_\n",
    "    fprs.append(fpr)\n",
    "    tprs.append(tpr)\n",
    "\n",
    "feature_importance[\"DT\"]=clf_DT.feature_importances_\n",
    "ROC_mean[\"DT\"]=mean_roc(fprs,tprs)\n",
    "mean_presition[\"DT\"]=np.mean(prec)\n",
    "#plot_roc_curve(fprs, tprs);\n",
    "#pd.DataFrame(scores, columns=['AUC Train', 'AUC Test'])"
   ]
  },
  {
   "cell_type": "code",
   "execution_count": 578,
   "metadata": {},
   "outputs": [
    {
     "data": {
      "text/plain": [
       "0.7328428416355084"
      ]
     },
     "execution_count": 578,
     "metadata": {},
     "output_type": "execute_result"
    }
   ],
   "source": [
    "clf_DT.score(x_test,y_test)"
   ]
  },
  {
   "cell_type": "code",
   "execution_count": 580,
   "metadata": {},
   "outputs": [
    {
     "data": {
      "text/plain": [
       "0.7680739847205469"
      ]
     },
     "execution_count": 580,
     "metadata": {},
     "output_type": "execute_result"
    }
   ],
   "source": [
    "clf_DT.score(x_train,y_train)"
   ]
  },
  {
   "cell_type": "code",
   "execution_count": 579,
   "metadata": {},
   "outputs": [
    {
     "data": {
      "text/plain": [
       "0.7380738589779423"
      ]
     },
     "execution_count": 579,
     "metadata": {},
     "output_type": "execute_result"
    }
   ],
   "source": [
    "mean_presition[\"DT\"]"
   ]
  },
  {
   "cell_type": "code",
   "execution_count": 664,
   "metadata": {},
   "outputs": [],
   "source": [
    "auc_DT=pd.DataFrame(scores, columns=['AUC Train', 'AUC Test'])"
   ]
  },
  {
   "cell_type": "code",
   "execution_count": 582,
   "metadata": {},
   "outputs": [
    {
     "data": {
      "text/html": [
       "<div>\n",
       "<style scoped>\n",
       "    .dataframe tbody tr th:only-of-type {\n",
       "        vertical-align: middle;\n",
       "    }\n",
       "\n",
       "    .dataframe tbody tr th {\n",
       "        vertical-align: top;\n",
       "    }\n",
       "\n",
       "    .dataframe thead th {\n",
       "        text-align: right;\n",
       "    }\n",
       "</style>\n",
       "<table border=\"1\" class=\"dataframe\">\n",
       "  <thead>\n",
       "    <tr style=\"text-align: right;\">\n",
       "      <th></th>\n",
       "      <th>AUC Train</th>\n",
       "      <th>AUC Test</th>\n",
       "    </tr>\n",
       "  </thead>\n",
       "  <tbody>\n",
       "    <tr>\n",
       "      <th>0</th>\n",
       "      <td>0.830354</td>\n",
       "      <td>0.778781</td>\n",
       "    </tr>\n",
       "    <tr>\n",
       "      <th>1</th>\n",
       "      <td>0.833665</td>\n",
       "      <td>0.777952</td>\n",
       "    </tr>\n",
       "    <tr>\n",
       "      <th>2</th>\n",
       "      <td>0.832600</td>\n",
       "      <td>0.776107</td>\n",
       "    </tr>\n",
       "    <tr>\n",
       "      <th>3</th>\n",
       "      <td>0.832942</td>\n",
       "      <td>0.781832</td>\n",
       "    </tr>\n",
       "    <tr>\n",
       "      <th>4</th>\n",
       "      <td>0.831054</td>\n",
       "      <td>0.772388</td>\n",
       "    </tr>\n",
       "  </tbody>\n",
       "</table>\n",
       "</div>"
      ],
      "text/plain": [
       "   AUC Train  AUC Test\n",
       "0   0.830354  0.778781\n",
       "1   0.833665  0.777952\n",
       "2   0.832600  0.776107\n",
       "3   0.832942  0.781832\n",
       "4   0.831054  0.772388"
      ]
     },
     "execution_count": 582,
     "metadata": {},
     "output_type": "execute_result"
    }
   ],
   "source": [
    "pd.DataFrame(scores, columns=['AUC Train', 'AUC Test'])"
   ]
  },
  {
   "cell_type": "markdown",
   "metadata": {},
   "source": [
    "# ADABoost"
   ]
  },
  {
   "cell_type": "code",
   "execution_count": 665,
   "metadata": {},
   "outputs": [],
   "source": [
    "clf_AC=AdaBoostClassifier(base_estimator=tree.DecisionTreeClassifier(max_depth=3,min_samples_split=2,\n",
    "                            min_samples_leaf=1,),                         \n",
    "                          n_estimators=150, learning_rate=1.0, random_state=None)"
   ]
  },
  {
   "cell_type": "code",
   "execution_count": 70,
   "metadata": {},
   "outputs": [],
   "source": []
  },
  {
   "cell_type": "code",
   "execution_count": 666,
   "metadata": {},
   "outputs": [],
   "source": [
    "def compute_roc_auc(index):\n",
    "    y_predict = clf_AC.predict_proba(x_train.iloc[index])[:,1]\n",
    "    fpr, tpr, thresholds = roc_curve(y_train.iloc[index], y_predict)\n",
    "    auc_score = auc(fpr, tpr)\n",
    "    return fpr, tpr, auc_score"
   ]
  },
  {
   "cell_type": "code",
   "execution_count": null,
   "metadata": {},
   "outputs": [],
   "source": []
  },
  {
   "cell_type": "code",
   "execution_count": 674,
   "metadata": {
    "scrolled": false
   },
   "outputs": [
    {
     "name": "stdout",
     "output_type": "stream",
     "text": [
      "The test score is:  0.7222225551596255  train:  0.8052568142409675\n",
      "The test score is:  0.7255413478501996  train:  0.8034921765514651\n",
      "The test score is:  0.7226482208240973  train:  0.8106529185147966\n",
      "The test score is:  0.7302044153007768  train:  0.8131723302181321\n",
      "The test score is:  0.728607454680152  train:  0.8144381530632357\n"
     ]
    }
   ],
   "source": [
    "clf_AC=AdaBoostClassifier(base_estimator=tree.DecisionTreeClassifier(max_depth=3,min_samples_split=2,\n",
    "                            min_samples_leaf=1,),                         \n",
    "                          n_estimators=150, learning_rate=1.0, random_state=None)\n",
    "\n",
    "\n",
    "cv = StratifiedKFold(n_splits=5, random_state=123, shuffle=True)\n",
    "results = pd.DataFrame(columns=['training_score', 'test_score'])\n",
    "fprs, tprs, scores, prec= [], [], [], []\n",
    "    \n",
    "#for (train, test), i in zip(cv.split(data, target), range(20)):\n",
    "for (train, test), i in zip(cv.split(x_train, y_train), range(5)):\n",
    "     \n",
    "    #print(i)\n",
    "    clf_AC.n_estimators += 10\n",
    "    #clf.fit(data.iloc[train], target.iloc[train])\n",
    "    clf_AC.fit(x_train.iloc[train], y_train.iloc[train])\n",
    "    \n",
    "    predictions=clf_AC.predict(x_train.iloc[test])\n",
    "    predictions2=clf_AC.predict(x_train.iloc[train])\n",
    "    \n",
    "    prec.append(metrics.average_precision_score(y_train.iloc[test],predictions))\n",
    "    \n",
    "    \n",
    "    \n",
    "    _, _, auc_score_train = compute_roc_auc(train)\n",
    "    \n",
    "    fpr, tpr, auc_score = compute_roc_auc(test)\n",
    "    \n",
    "    score = clf_AC.score(x_train.iloc[test], y_train.iloc[test])\n",
    "    #predictions=clf.predict(x_train.iloc[test])\n",
    "\n",
    "\n",
    "    prec1=metrics.average_precision_score(y_train.iloc[test],predictions)\n",
    "    prec2=metrics.average_precision_score(y_train.iloc[train],predictions2)\n",
    "    print(\"The test score is: \", prec1,\" train: \",prec2)\n",
    "    #score = clf.score(x_train, y_train)\n",
    "    #print(\"The train score is: \",score)\n",
    "    \n",
    "    #feature_importance[\"RF\"]=clf_RF.feature_importances_\n",
    "    scores.append((auc_score_train, auc_score))\n",
    "    #clf_AC.feature_importances_\n",
    "    fprs.append(fpr)\n",
    "    tprs.append(tpr)\n",
    "\n",
    "feature_importance[\"AC\"]=clf_AC.feature_importances_\n",
    "ROC_mean[\"AC\"]=mean_roc(fprs,tprs)\n",
    "mean_presition[\"AC\"]=np.mean(prec)\n",
    "#plot_roc_curve(fprs, tprs);\n",
    "#pd.DataFrame(scores, columns=['AUC Train', 'AUC Test'])"
   ]
  },
  {
   "cell_type": "code",
   "execution_count": 675,
   "metadata": {},
   "outputs": [
    {
     "data": {
      "text/plain": [
       "0.7119768423591847"
      ]
     },
     "execution_count": 675,
     "metadata": {},
     "output_type": "execute_result"
    }
   ],
   "source": [
    "clf_AC.score(x_test,y_test)"
   ]
  },
  {
   "cell_type": "code",
   "execution_count": 676,
   "metadata": {},
   "outputs": [
    {
     "data": {
      "text/plain": [
       "0.8019300361881785"
      ]
     },
     "execution_count": 676,
     "metadata": {},
     "output_type": "execute_result"
    }
   ],
   "source": [
    "clf_AC.score(x_train,y_train)"
   ]
  },
  {
   "cell_type": "code",
   "execution_count": 677,
   "metadata": {},
   "outputs": [],
   "source": [
    "auc_AC=pd.DataFrame(scores, columns=['AUC Train', 'AUC Test'])"
   ]
  },
  {
   "cell_type": "code",
   "execution_count": 678,
   "metadata": {},
   "outputs": [
    {
     "data": {
      "text/html": [
       "<div>\n",
       "<style scoped>\n",
       "    .dataframe tbody tr th:only-of-type {\n",
       "        vertical-align: middle;\n",
       "    }\n",
       "\n",
       "    .dataframe tbody tr th {\n",
       "        vertical-align: top;\n",
       "    }\n",
       "\n",
       "    .dataframe thead th {\n",
       "        text-align: right;\n",
       "    }\n",
       "</style>\n",
       "<table border=\"1\" class=\"dataframe\">\n",
       "  <thead>\n",
       "    <tr style=\"text-align: right;\">\n",
       "      <th></th>\n",
       "      <th>AUC Train</th>\n",
       "      <th>AUC Test</th>\n",
       "    </tr>\n",
       "  </thead>\n",
       "  <tbody>\n",
       "    <tr>\n",
       "      <th>0</th>\n",
       "      <td>0.942901</td>\n",
       "      <td>0.921908</td>\n",
       "    </tr>\n",
       "    <tr>\n",
       "      <th>1</th>\n",
       "      <td>0.938485</td>\n",
       "      <td>0.940515</td>\n",
       "    </tr>\n",
       "    <tr>\n",
       "      <th>2</th>\n",
       "      <td>0.938397</td>\n",
       "      <td>0.940793</td>\n",
       "    </tr>\n",
       "    <tr>\n",
       "      <th>3</th>\n",
       "      <td>0.936654</td>\n",
       "      <td>0.947515</td>\n",
       "    </tr>\n",
       "    <tr>\n",
       "      <th>4</th>\n",
       "      <td>0.937862</td>\n",
       "      <td>0.942836</td>\n",
       "    </tr>\n",
       "  </tbody>\n",
       "</table>\n",
       "</div>"
      ],
      "text/plain": [
       "   AUC Train  AUC Test\n",
       "0   0.942901  0.921908\n",
       "1   0.938485  0.940515\n",
       "2   0.938397  0.940793\n",
       "3   0.936654  0.947515\n",
       "4   0.937862  0.942836"
      ]
     },
     "execution_count": 678,
     "metadata": {},
     "output_type": "execute_result"
    }
   ],
   "source": [
    "pd.DataFrame(scores, columns=['AUC Train', 'AUC Test'])"
   ]
  },
  {
   "cell_type": "code",
   "execution_count": 679,
   "metadata": {},
   "outputs": [
    {
     "data": {
      "text/plain": [
       "0.7258447987629703"
      ]
     },
     "execution_count": 679,
     "metadata": {},
     "output_type": "execute_result"
    }
   ],
   "source": [
    "mean_presition[\"AC\"]"
   ]
  },
  {
   "cell_type": "code",
   "execution_count": 78,
   "metadata": {},
   "outputs": [
    {
     "data": {
      "text/plain": [
       "200"
      ]
     },
     "execution_count": 78,
     "metadata": {},
     "output_type": "execute_result"
    }
   ],
   "source": [
    "clf_AC.n_estimators"
   ]
  },
  {
   "cell_type": "code",
   "execution_count": null,
   "metadata": {},
   "outputs": [],
   "source": []
  },
  {
   "cell_type": "markdown",
   "metadata": {},
   "source": [
    "# Extra Tree"
   ]
  },
  {
   "cell_type": "code",
   "execution_count": 668,
   "metadata": {},
   "outputs": [],
   "source": [
    "from sklearn.ensemble import (RandomForestClassifier, ExtraTreesClassifier,\n",
    "                              AdaBoostClassifier)"
   ]
  },
  {
   "cell_type": "code",
   "execution_count": 669,
   "metadata": {},
   "outputs": [],
   "source": [
    "def mean_roc(fprs, tprs):\n",
    "    tprs_interp = []\n",
    "    aucs = []\n",
    "    mean_fpr = np.linspace(0, 1, 100)\n",
    "    \n",
    "    \n",
    "    for i, (fpr, tpr) in enumerate(zip(fprs, tprs)):\n",
    "        tprs_interp.append(np.interp(mean_fpr, fpr, tpr))\n",
    "        tprs_interp[-1][0] = 0.0\n",
    "        roc_auc = auc(fpr, tpr)\n",
    "        aucs.append(roc_auc)\n",
    "        #ax.plot(fpr, tpr, lw=1, alpha=0.3,\n",
    "                 #label='ROC fold %d (AUC = %0.2f)' % (i, roc_auc))\n",
    "            \n",
    "    mean_tpr = np.mean(tprs_interp, axis=0)\n",
    "    mean_tpr[-1] = 1.0\n",
    "    mean_auc = auc(mean_fpr, mean_tpr)\n",
    "    std_auc = np.std(aucs)\n",
    "    #ax.plot(mean_fpr, mean_tpr, color='b',\n",
    "             #label=r'Mean ROC (AUC = %0.2f $\\pm$ %0.2f)' % (mean_auc, std_auc),\n",
    "             #lw=2, alpha=.8)    \n",
    "            \n",
    "    return (mean_fpr, mean_tpr)        "
   ]
  },
  {
   "cell_type": "code",
   "execution_count": 670,
   "metadata": {},
   "outputs": [],
   "source": [
    "def compute_roc_auc(index):\n",
    "    y_predict = clf_ET.predict_proba(x_train.iloc[index])[:,1]\n",
    "    fpr, tpr, thresholds = roc_curve(y_train.iloc[index], y_predict)\n",
    "    auc_score = auc(fpr, tpr)\n",
    "    return fpr, tpr, auc_score"
   ]
  },
  {
   "cell_type": "code",
   "execution_count": 671,
   "metadata": {},
   "outputs": [],
   "source": [
    "clf_ET = ExtraTreesClassifier(n_estimators=150,\n",
    "    criterion='gini',\n",
    "    max_depth=20,\n",
    "    min_samples_split=2,\n",
    "    min_samples_leaf=1,\n",
    "    min_weight_fraction_leaf=0.0,\n",
    "    max_features='auto',\n",
    "    max_leaf_nodes=None,\n",
    "    min_impurity_decrease=0.0,\n",
    "    min_impurity_split=None,\n",
    "    bootstrap=True,\n",
    "    oob_score=False,\n",
    "    n_jobs=-1,\n",
    "    random_state=0,\n",
    "    verbose=0,\n",
    "    warm_start=True)\n",
    "\n",
    "    #class_weight='balanced')\n",
    "#clf_ET.fit(x_train, y_train)"
   ]
  },
  {
   "cell_type": "code",
   "execution_count": 672,
   "metadata": {
    "scrolled": false
   },
   "outputs": [
    {
     "name": "stdout",
     "output_type": "stream",
     "text": [
      "The test score is:  0.7335463961248023 0.8407876846067063\n",
      "The test score is:  0.8379714160460184 0.8322763775445033\n",
      "The test score is:  0.8292762802804915 0.8327929074507595\n",
      "The test score is:  0.8139012059481017 0.8336410333139119\n",
      "The test score is:  0.8276215250542961 0.8332453831129765\n",
      "The test score is:  0.8392218505448689 0.8316108278529283\n",
      "The test score is:  0.825603798246446 0.8319324242664157\n",
      "The test score is:  0.8335754933082385 0.8320611426092298\n",
      "The test score is:  0.8356903710154301 0.8321564113083344\n",
      "The test score is:  0.839627217860628 0.8323558502279508\n",
      "The test score is:  0.8538433584633565 0.8310062035268184\n",
      "The test score is:  0.8426977081362234 0.8317333443710071\n",
      "The test score is:  0.83965742927501 0.831323194164613\n",
      "The test score is:  0.8378108106116609 0.8311531181252678\n",
      "The test score is:  0.8374482849987623 0.8313803782313988\n"
     ]
    }
   ],
   "source": [
    "cv = StratifiedKFold(n_splits=15, random_state=123, shuffle=True)\n",
    "results = pd.DataFrame(columns=['training_score', 'test_score'])\n",
    "fprs, tprs, scores, prec= [], [], [], []\n",
    "    \n",
    "#for (train, test), i in zip(cv.split(data, target), range(20)):\n",
    "for (train, test), i in zip(cv.split(x_train, y_train), range(15)):\n",
    "     \n",
    "    #print(i)\n",
    "    clf_ET.n_estimators += 10\n",
    "    #clf.fit(data.iloc[train], target.iloc[train])\n",
    "    clf_ET.fit(x_train.iloc[train], y_train.iloc[train])\n",
    "    \n",
    "    predictions=clf_ET.predict(x_train.iloc[test])\n",
    "    predictions2=clf_ET.predict(x_train.iloc[train])\n",
    "    \n",
    "    prec.append(metrics.average_precision_score(y_train.iloc[test],predictions))\n",
    "    \n",
    "    \n",
    "    \n",
    "    _, _, auc_score_train = compute_roc_auc(train)\n",
    "    \n",
    "    fpr, tpr, auc_score = compute_roc_auc(test)\n",
    "    \n",
    "    score = clf_ET.score(x_train.iloc[test], y_train.iloc[test])\n",
    "    #predictions=clf.predict(x_train.iloc[test])\n",
    "\n",
    "\n",
    "    prec1=metrics.average_precision_score(y_train.iloc[test],predictions)\n",
    "    prec2=metrics.average_precision_score(y_train.iloc[train],predictions2)\n",
    "    print(\"The test score is: \", prec1,prec2)\n",
    "    \n",
    "    #score = clf.score(x_train, y_train)\n",
    "    #print(\"The train score is: \",score)\n",
    "    \n",
    "    #feature_importance[\"RF\"]=clf_RF.feature_importances_\n",
    "    scores.append((auc_score_train, auc_score))\n",
    "    clf_ET.feature_importances_\n",
    "    fprs.append(fpr)\n",
    "    tprs.append(tpr)\n",
    "\n",
    "feature_importance[\"ET\"]=clf_ET.feature_importances_\n",
    "ROC_mean[\"ET\"]=mean_roc(fprs,tprs)\n",
    "mean_presition[\"ET\"]=np.mean(prec)\n",
    "#plot_roc_curve(fprs, tprs);\n",
    "#pd.DataFrame(scores, columns=['AUC Train', 'AUC Test'])"
   ]
  },
  {
   "cell_type": "code",
   "execution_count": null,
   "metadata": {},
   "outputs": [],
   "source": []
  },
  {
   "cell_type": "code",
   "execution_count": 469,
   "metadata": {},
   "outputs": [
    {
     "data": {
      "text/plain": [
       "0.8578062127189813"
      ]
     },
     "execution_count": 469,
     "metadata": {},
     "output_type": "execute_result"
    }
   ],
   "source": [
    "mean_presition[\"ET\"]"
   ]
  },
  {
   "cell_type": "code",
   "execution_count": 673,
   "metadata": {},
   "outputs": [],
   "source": [
    "auc_ET=pd.DataFrame(scores, columns=['AUC Train', 'AUC Test'])"
   ]
  },
  {
   "cell_type": "code",
   "execution_count": 680,
   "metadata": {},
   "outputs": [
    {
     "data": {
      "text/plain": [
       "[<matplotlib.lines.Line2D at 0x1a47d42ba8>]"
      ]
     },
     "execution_count": 680,
     "metadata": {},
     "output_type": "execute_result"
    },
    {
     "data": {
      "image/png": "[encoded data removed]",
      "text/plain": [
       "<Figure size 432x288 with 1 Axes>"
      ]
     },
     "metadata": {},
     "output_type": "display_data"
    }
   ],
   "source": [
    "plt.plot(ROC_mean[\"ET\"][0],ROC_mean[\"ET\"][1])\n",
    "plt.plot(ROC_mean[\"RF\"][0],ROC_mean[\"RF\"][1])\n",
    "plt.plot(ROC_mean[\"AC\"][0],ROC_mean[\"AC\"][1])\n",
    "plt.plot(ROC_mean[\"DT\"][0],ROC_mean[\"DT\"][1])"
   ]
  },
  {
   "cell_type": "code",
   "execution_count": 485,
   "metadata": {},
   "outputs": [],
   "source": [
    "predictions=clf_ET.predict(x_test)"
   ]
  },
  {
   "cell_type": "code",
   "execution_count": 486,
   "metadata": {},
   "outputs": [
    {
     "name": "stdout",
     "output_type": "stream",
     "text": [
      "             precision    recall  f1-score   support\n",
      "\n",
      "      False       0.74      0.53      0.62      3154\n",
      "       True       0.75      0.89      0.82      5137\n",
      "\n",
      "avg / total       0.75      0.75      0.74      8291\n",
      "\n"
     ]
    }
   ],
   "source": [
    "print(classification_report(y_test, predictions))"
   ]
  },
  {
   "cell_type": "code",
   "execution_count": 473,
   "metadata": {},
   "outputs": [
    {
     "data": {
      "text/plain": [
       "0.7505729103847546"
      ]
     },
     "execution_count": 473,
     "metadata": {},
     "output_type": "execute_result"
    }
   ],
   "source": [
    "clf_ET.score(x_test,y_test)"
   ]
  },
  {
   "cell_type": "code",
   "execution_count": 474,
   "metadata": {},
   "outputs": [
    {
     "data": {
      "text/plain": [
       "0.8831926015279453"
      ]
     },
     "execution_count": 474,
     "metadata": {},
     "output_type": "execute_result"
    }
   ],
   "source": [
    "clf_ET.score(x_train,y_train)"
   ]
  },
  {
   "cell_type": "code",
   "execution_count": 279,
   "metadata": {},
   "outputs": [
    {
     "data": {
      "text/plain": [
       "0.7418887950790013"
      ]
     },
     "execution_count": 279,
     "metadata": {},
     "output_type": "execute_result"
    }
   ],
   "source": [
    "clf_RF.score(x_test,y_test)"
   ]
  },
  {
   "cell_type": "code",
   "execution_count": 280,
   "metadata": {},
   "outputs": [
    {
     "data": {
      "text/plain": [
       "0.8524728588661037"
      ]
     },
     "execution_count": 280,
     "metadata": {},
     "output_type": "execute_result"
    }
   ],
   "source": [
    "clf_RF.score(x_train,y_train)"
   ]
  },
  {
   "cell_type": "code",
   "execution_count": 277,
   "metadata": {},
   "outputs": [
    {
     "data": {
      "text/plain": [
       "0.8267312208369404"
      ]
     },
     "execution_count": 277,
     "metadata": {},
     "output_type": "execute_result"
    }
   ],
   "source": [
    "mean_presition[\"ET\"]"
   ]
  },
  {
   "cell_type": "code",
   "execution_count": 278,
   "metadata": {},
   "outputs": [
    {
     "data": {
      "text/plain": [
       "0.8233115998484466"
      ]
     },
     "execution_count": 278,
     "metadata": {},
     "output_type": "execute_result"
    }
   ],
   "source": [
    "mean_presition[\"RF\"]"
   ]
  },
  {
   "cell_type": "code",
   "execution_count": 682,
   "metadata": {},
   "outputs": [],
   "source": [
    "sum1=np.zeros(22)\n",
    "al=0\n",
    "for key in feature_importance.keys():\n",
    "    sum1=sum1+feature_importance[key]*mean_presition[key]\n",
    "    al=al+mean_presition[key]"
   ]
  },
  {
   "cell_type": "code",
   "execution_count": 683,
   "metadata": {},
   "outputs": [
    {
     "data": {
      "text/plain": [
       "array([0.04365048, 0.00287978, 0.0279893 , 0.10762216, 0.02908999,\n",
       "       0.05419567, 0.02864171, 0.06154377, 0.0609322 , 0.05176013,\n",
       "       0.04456299, 0.        , 0.03163033, 0.        , 0.02910241,\n",
       "       0.02932946, 0.0301842 , 0.03048585, 0.04397986, 0.0344442 ,\n",
       "       0.0463984 , 0.04713321])"
      ]
     },
     "execution_count": 683,
     "metadata": {},
     "output_type": "execute_result"
    }
   ],
   "source": [
    "feature_importance[\"RF\"]*mean_presition[\"RF\"]"
   ]
  },
  {
   "cell_type": "code",
   "execution_count": 684,
   "metadata": {},
   "outputs": [
    {
     "data": {
      "text/plain": [
       "array([0.05975174, 0.00605605, 0.03792615, 0.18491081, 0.03372749,\n",
       "       0.04793807, 0.02423047, 0.0496982 , 0.06582882, 0.04482634,\n",
       "       0.05262943, 0.        , 0.04002115, 0.        , 0.03872002,\n",
       "       0.02025419, 0.03379281, 0.07490959, 0.04742694, 0.03541507,\n",
       "       0.05236739, 0.04956928])"
      ]
     },
     "execution_count": 684,
     "metadata": {},
     "output_type": "execute_result"
    }
   ],
   "source": [
    "sum1/al"
   ]
  },
  {
   "cell_type": "code",
   "execution_count": 685,
   "metadata": {},
   "outputs": [
    {
     "name": "stdout",
     "output_type": "stream",
     "text": [
      "Variable: num_perks                 Importance: 0.18\n",
      "Variable: num_of_words_about        Importance: 0.07\n",
      "Variable: bool_R                    Importance: 0.07\n",
      "Variable: code                      Importance: 0.06\n",
      "Variable: num_of_sent_about         Importance: 0.05\n",
      "Variable: num_of_sent_perks         Importance: 0.05\n",
      "Variable: freq_bold_A               Importance: 0.05\n",
      "Variable: freq_pitch_A              Importance: 0.05\n",
      "Variable: freq_pitch_P              Importance: 0.05\n",
      "Variable: words_x_perk              Importance: 0.05\n",
      "Variable: num_pics                  Importance: 0.04\n",
      "Variable: num_of_words_risk         Importance: 0.04\n",
      "Variable: freq_italic_A             Importance: 0.04\n",
      "Variable: num_of_exclamation_A      Importance: 0.04\n",
      "Variable: freq_pitch_R              Importance: 0.04\n",
      "Variable: num_links                 Importance: 0.03\n",
      "Variable: num_of_exclamation_P      Importance: 0.03\n",
      "Variable: num_of_sent_risk          Importance: 0.02\n",
      "Variable: num_of_exclamation_R      Importance: 0.02\n",
      "Variable: num_videos                Importance: 0.01\n",
      "Variable: freq_bold_R               Importance: 0.0\n",
      "Variable: freq_italic_R             Importance: 0.0\n"
     ]
    }
   ],
   "source": [
    "importances = list(sum1/al)\n",
    "feature_list = list(x_test.columns)\n",
    "feature_importances = [(feature, round(importance, 2)) for feature, importance in zip(feature_list, importances)]\n",
    "feature_importances = sorted(feature_importances, key = lambda x: x[1], reverse = True)\n",
    "[print('Variable: {:25} Importance: {}'.format(*pair)) for pair in feature_importances];"
   ]
  },
  {
   "cell_type": "code",
   "execution_count": 686,
   "metadata": {},
   "outputs": [],
   "source": [
    "fi=[]\n",
    "names=[]\n",
    "for i in range(len(feature_importances)):\n",
    "    fi.append(feature_importances[i][1])\n",
    "    names.append(feature_importances[i][0])\n",
    "#feature_importances[0][1]"
   ]
  },
  {
   "cell_type": "code",
   "execution_count": 687,
   "metadata": {},
   "outputs": [
    {
     "data": {
      "text/plain": [
       "['num_perks',\n",
       " 'num_of_words_about',\n",
       " 'bool_R',\n",
       " 'code',\n",
       " 'num_of_sent_about',\n",
       " 'num_of_sent_perks',\n",
       " 'freq_bold_A',\n",
       " 'freq_pitch_A',\n",
       " 'freq_pitch_P',\n",
       " 'words_x_perk',\n",
       " 'num_pics',\n",
       " 'num_of_words_risk',\n",
       " 'freq_italic_A',\n",
       " 'num_of_exclamation_A',\n",
       " 'freq_pitch_R',\n",
       " 'num_links',\n",
       " 'num_of_exclamation_P',\n",
       " 'num_of_sent_risk',\n",
       " 'num_of_exclamation_R',\n",
       " 'num_videos',\n",
       " 'freq_bold_R',\n",
       " 'freq_italic_R']"
      ]
     },
     "execution_count": 687,
     "metadata": {},
     "output_type": "execute_result"
    }
   ],
   "source": [
    "names"
   ]
  },
  {
   "cell_type": "code",
   "execution_count": 322,
   "metadata": {},
   "outputs": [
    {
     "ename": "TypeError",
     "evalue": "unsupported operand type(s) for -: 'list' and 'int'",
     "output_type": "error",
     "traceback": [
      "\u001b[0;31m---------------------------------------------------------------------------\u001b[0m",
      "\u001b[0;31mTypeError\u001b[0m                                 Traceback (most recent call last)",
      "\u001b[0;32m<ipython-input-322-d3097b4dee80>\u001b[0m in \u001b[0;36m<module>\u001b[0;34m()\u001b[0m\n\u001b[0;32m----> 1\u001b[0;31m \u001b[0mlist\u001b[0m\u001b[0;34m(\u001b[0m\u001b[0mrange\u001b[0m\u001b[0;34m(\u001b[0m\u001b[0mlen\u001b[0m\u001b[0;34m(\u001b[0m\u001b[0mimportances\u001b[0m\u001b[0;34m)\u001b[0m\u001b[0;34m)\u001b[0m\u001b[0;34m)\u001b[0m\u001b[0;34m-\u001b[0m\u001b[0;36m1\u001b[0m\u001b[0;34m\u001b[0m\u001b[0m\n\u001b[0m",
      "\u001b[0;31mTypeError\u001b[0m: unsupported operand type(s) for -: 'list' and 'int'"
     ]
    }
   ],
   "source": [
    "list(range(len(importances)))-1"
   ]
  },
  {
   "cell_type": "code",
   "execution_count": 688,
   "metadata": {},
   "outputs": [
    {
     "data": {
      "image/png": "[encoded data removed]",
      "text/plain": [
       "<Figure size 432x288 with 1 Axes>"
      ]
     },
     "metadata": {},
     "output_type": "display_data"
    }
   ],
   "source": [
    "plt.style.use('fivethirtyeight')\n",
    "x_values = list(range(len(importances)))\n",
    "plt.bar(x_values, fi, orientation = 'vertical')\n",
    "#plt.bar(x_values, importancesT, orientation = 'vertical',alpha=0.5)\n",
    "#plt.bar(x_values, importancesET, orientation = 'vertical',alpha=0.5)\n",
    "\n",
    "\n",
    "plt.xticks(np.array(x_values), names, rotation=\"vertical\")\n",
    "plt.ylabel('Importance'); plt.xlabel('Feature'); plt.title('Feature Importance');"
   ]
  },
  {
   "cell_type": "code",
   "execution_count": 333,
   "metadata": {},
   "outputs": [],
   "source": [
    "features1_F=features1[features1[\"founded_bool\"]==True]\n",
    "features1_UF=features1[features1[\"founded_bool\"]==False]"
   ]
  },
  {
   "cell_type": "code",
   "execution_count": 350,
   "metadata": {},
   "outputs": [
    {
     "data": {
      "text/plain": [
       "(0, 40)"
      ]
     },
     "execution_count": 350,
     "metadata": {},
     "output_type": "execute_result"
    },
    {
     "data": {
      "image/png": "[encoded data removed]",
      "text/plain": [
       "<Figure size 432x288 with 1 Axes>"
      ]
     },
     "metadata": {},
     "output_type": "display_data"
    }
   ],
   "source": [
    "plt.hist(features1_F[\"num_perks\"],bins=50,density=1)\n",
    "plt.hist(features1_UF[\"num_perks\"],bins=50,density=1)\n",
    "plt.xlim(0,40)"
   ]
  },
  {
   "cell_type": "code",
   "execution_count": 352,
   "metadata": {},
   "outputs": [
    {
     "name": "stdout",
     "output_type": "stream",
     "text": [
      "F:  8.79768251385821\n",
      "UF:  5.5577863756003865\n"
     ]
    }
   ],
   "source": [
    "print(\"F: \",np.mean(features1_F[\"num_perks\"]))\n",
    "print(\"UF: \",np.mean(features1_UF[\"num_perks\"]))"
   ]
  },
  {
   "cell_type": "code",
   "execution_count": 353,
   "metadata": {},
   "outputs": [
    {
     "name": "stdout",
     "output_type": "stream",
     "text": [
      "F:  501.0101474235057\n",
      "UF:  323.77449859476815\n"
     ]
    }
   ],
   "source": [
    "print(\"F: \",np.mean(features1_F[\"num_of_words_about\"]))\n",
    "print(\"UF: \",np.mean(features1_UF[\"num_of_words_about\"]))"
   ]
  },
  {
   "cell_type": "code",
   "execution_count": 354,
   "metadata": {},
   "outputs": [
    {
     "name": "stdout",
     "output_type": "stream",
     "text": [
      "F:  300.71388452546387\n",
      "UF:  168.62422713289288\n"
     ]
    }
   ],
   "source": [
    "print(\"F: \",np.mean(features1_F[\"num_of_words_perks\"]))\n",
    "print(\"UF: \",np.mean(features1_UF[\"num_of_words_perks\"]))"
   ]
  },
  {
   "cell_type": "code",
   "execution_count": 387,
   "metadata": {},
   "outputs": [
    {
     "name": "stdout",
     "output_type": "stream",
     "text": [
      "F:  4.426276844178074\n",
      "UF:  0.0\n"
     ]
    }
   ],
   "source": [
    "print(\"F: \",np.mean(features1_F[\"freq_bold_A\"]))\n",
    "print(\"UF: \",np.median(features1_UF[\"freq_bold_A\"]))"
   ]
  },
  {
   "cell_type": "code",
   "execution_count": 391,
   "metadata": {},
   "outputs": [
    {
     "data": {
      "text/plain": [
       "(0, 100)"
      ]
     },
     "execution_count": 391,
     "metadata": {},
     "output_type": "execute_result"
    },
    {
     "data": {
      "image/png": "[encoded data removed]",
      "text/plain": [
       "<Figure size 432x288 with 1 Axes>"
      ]
     },
     "metadata": {},
     "output_type": "display_data"
    }
   ],
   "source": [
    "plt.hist(features1_F[\"freq_bold_A\"]*features1_F[\"num_of_words_about\"]/100,bins=50,label=\"F\",density=1)\n",
    "plt.hist(features1_UF[\"freq_bold_A\"]*features1_UF[\"num_of_words_about\"]/100,bins=50,alpha=0.4,density=1)\n",
    "plt.legend()\n",
    "plt.xlim(0,100)"
   ]
  },
  {
   "cell_type": "code",
   "execution_count": 392,
   "metadata": {},
   "outputs": [
    {
     "name": "stdout",
     "output_type": "stream",
     "text": [
      "F:  6.54222126920738\n",
      "UF:  6.439193641827385\n"
     ]
    }
   ],
   "source": [
    "print(\"F: \",np.mean(features1_F[\"freq_pitch_A\"]))\n",
    "print(\"UF: \",np.mean(features1_UF[\"freq_pitch_A\"]))"
   ]
  },
  {
   "cell_type": "code",
   "execution_count": 370,
   "metadata": {},
   "outputs": [
    {
     "data": {
      "text/plain": [
       "(0, 15)"
      ]
     },
     "execution_count": 370,
     "metadata": {},
     "output_type": "execute_result"
    },
    {
     "data": {
      "image/png": "[encoded data removed]",
      "text/plain": [
       "<Figure size 432x288 with 1 Axes>"
      ]
     },
     "metadata": {},
     "output_type": "display_data"
    }
   ],
   "source": [
    "plt.hist(features1_F[\"freq_pitch_A\"],bins=50,label=\"F\",density=1)\n",
    "plt.hist(features1_UF[\"freq_pitch_A\"],bins=50,alpha=0.4,density=1)\n",
    "plt.legend()\n",
    "plt.xlim(0,15)"
   ]
  },
  {
   "cell_type": "code",
   "execution_count": 399,
   "metadata": {},
   "outputs": [
    {
     "data": {
      "text/plain": [
       "(0, 15)"
      ]
     },
     "execution_count": 399,
     "metadata": {},
     "output_type": "execute_result"
    },
    {
     "data": {
      "image/png": "[encoded data removed]",
      "text/plain": [
       "<Figure size 432x288 with 1 Axes>"
      ]
     },
     "metadata": {},
     "output_type": "display_data"
    }
   ],
   "source": [
    "plt.hist(features1_F[\"freq_pitch_P\"],bins=50,label=\"F\",density=1)\n",
    "plt.hist(features1_UF[\"freq_pitch_P\"],bins=50,alpha=0.4,density=1)\n",
    "plt.legend()\n",
    "plt.xlim(0,15)"
   ]
  },
  {
   "cell_type": "code",
   "execution_count": 405,
   "metadata": {},
   "outputs": [
    {
     "data": {
      "text/plain": [
       "62.994267949091615"
      ]
     },
     "execution_count": 405,
     "metadata": {},
     "output_type": "execute_result"
    }
   ],
   "source": [
    "sum(features1_F[\"bool_R\"])*100/len(features1_F)"
   ]
  },
  {
   "cell_type": "code",
   "execution_count": 406,
   "metadata": {},
   "outputs": [
    {
     "data": {
      "text/plain": [
       "85.52683896620279"
      ]
     },
     "execution_count": 406,
     "metadata": {},
     "output_type": "execute_result"
    }
   ],
   "source": [
    "sum(features1_UF[\"bool_R\"])*100/len(features1_UF)"
   ]
  },
  {
   "cell_type": "code",
   "execution_count": 400,
   "metadata": {},
   "outputs": [
    {
     "data": {
      "text/plain": [
       "(0, 15)"
      ]
     },
     "execution_count": 400,
     "metadata": {},
     "output_type": "execute_result"
    },
    {
     "data": {
      "image/png": "[encoded data removed]",
      "text/plain": [
       "<Figure size 432x288 with 1 Axes>"
      ]
     },
     "metadata": {},
     "output_type": "display_data"
    }
   ],
   "source": [
    "plt.hist(features1_F[\"bool_R\"],bins=50,label=\"F\",density=1)\n",
    "plt.hist(features1_UF[\"bool_R\"],bins=50,alpha=0.4,density=1)\n",
    "plt.legend()\n",
    "plt.xlim(0,15)"
   ]
  },
  {
   "cell_type": "code",
   "execution_count": 394,
   "metadata": {},
   "outputs": [
    {
     "name": "stdout",
     "output_type": "stream",
     "text": [
      "F:  7.984495264581083\n",
      "UF:  8.540817762610896\n"
     ]
    }
   ],
   "source": [
    "print(\"F: \",np.mean(features1_F[\"freq_pitch_P\"]))\n",
    "print(\"UF: \",np.mean(features1_UF[\"freq_pitch_P\"]))"
   ]
  },
  {
   "cell_type": "code",
   "execution_count": 396,
   "metadata": {},
   "outputs": [
    {
     "name": "stdout",
     "output_type": "stream",
     "text": [
      "F:  2.0\n",
      "UF:  1.0\n"
     ]
    }
   ],
   "source": [
    "print(\"F: \",np.median(features1_F[\"num_of_exclamation_A\"]))\n",
    "print(\"UF: \",np.median(features1_UF[\"num_of_exclamation_A\"]))"
   ]
  },
  {
   "cell_type": "code",
   "execution_count": 398,
   "metadata": {},
   "outputs": [
    {
     "name": "stdout",
     "output_type": "stream",
     "text": [
      "F:  4.3701073675805535\n",
      "UF:  2.3475882483234742\n"
     ]
    }
   ],
   "source": [
    "print(\"F: \",np.mean(features1_F[\"num_pics\"]))\n",
    "print(\"UF: \",np.mean(features1_UF[\"num_pics\"]))"
   ]
  },
  {
   "cell_type": "code",
   "execution_count": null,
   "metadata": {},
   "outputs": [],
   "source": []
  },
  {
   "cell_type": "code",
   "execution_count": null,
   "metadata": {},
   "outputs": [],
   "source": []
  },
  {
   "cell_type": "code",
   "execution_count": null,
   "metadata": {},
   "outputs": [],
   "source": []
  },
  {
   "cell_type": "code",
   "execution_count": null,
   "metadata": {},
   "outputs": [],
   "source": []
  },
  {
   "cell_type": "code",
   "execution_count": null,
   "metadata": {},
   "outputs": [],
   "source": []
  },
  {
   "cell_type": "code",
   "execution_count": null,
   "metadata": {},
   "outputs": [],
   "source": []
  },
  {
   "cell_type": "code",
   "execution_count": null,
   "metadata": {},
   "outputs": [],
   "source": []
  },
  {
   "cell_type": "code",
   "execution_count": null,
   "metadata": {},
   "outputs": [],
   "source": []
  },
  {
   "cell_type": "code",
   "execution_count": null,
   "metadata": {},
   "outputs": [],
   "source": []
  },
  {
   "cell_type": "code",
   "execution_count": 595,
   "metadata": {},
   "outputs": [
    {
     "name": "stdout",
     "output_type": "stream",
     "text": [
      "The test score is:  0.7564580469995613  train:  0.7924413895994109\n",
      "The test score is:  0.7544395710731728  train:  0.8120237150571594\n",
      "The test score is:  0.7545544866209897  train:  0.8269699183551158\n"
     ]
    },
    {
     "ename": "KeyboardInterrupt",
     "evalue": "",
     "output_type": "error",
     "traceback": [
      "\u001b[0;31m---------------------------------------------------------------------------\u001b[0m",
      "\u001b[0;31mKeyboardInterrupt\u001b[0m                         Traceback (most recent call last)",
      "\u001b[0;32m<ipython-input-595-6e61bada90a1>\u001b[0m in \u001b[0;36m<module>\u001b[0;34m()\u001b[0m\n\u001b[1;32m     29\u001b[0m     \u001b[0mclf_AC\u001b[0m\u001b[0;34m.\u001b[0m\u001b[0mn_estimators\u001b[0m \u001b[0;34m+=\u001b[0m \u001b[0;36m10\u001b[0m\u001b[0;34m\u001b[0m\u001b[0m\n\u001b[1;32m     30\u001b[0m     \u001b[0;31m#clf.fit(data.iloc[train], target.iloc[train])\u001b[0m\u001b[0;34m\u001b[0m\u001b[0;34m\u001b[0m\u001b[0m\n\u001b[0;32m---> 31\u001b[0;31m     \u001b[0mclf_AC\u001b[0m\u001b[0;34m.\u001b[0m\u001b[0mfit\u001b[0m\u001b[0;34m(\u001b[0m\u001b[0mx_train\u001b[0m\u001b[0;34m.\u001b[0m\u001b[0miloc\u001b[0m\u001b[0;34m[\u001b[0m\u001b[0mtrain\u001b[0m\u001b[0;34m]\u001b[0m\u001b[0;34m,\u001b[0m \u001b[0my_train\u001b[0m\u001b[0;34m.\u001b[0m\u001b[0miloc\u001b[0m\u001b[0;34m[\u001b[0m\u001b[0mtrain\u001b[0m\u001b[0;34m]\u001b[0m\u001b[0;34m)\u001b[0m\u001b[0;34m\u001b[0m\u001b[0m\n\u001b[0m\u001b[1;32m     32\u001b[0m \u001b[0;34m\u001b[0m\u001b[0m\n\u001b[1;32m     33\u001b[0m     \u001b[0mpredictions\u001b[0m\u001b[0;34m=\u001b[0m\u001b[0mclf_AC\u001b[0m\u001b[0;34m.\u001b[0m\u001b[0mpredict\u001b[0m\u001b[0;34m(\u001b[0m\u001b[0mx_train\u001b[0m\u001b[0;34m.\u001b[0m\u001b[0miloc\u001b[0m\u001b[0;34m[\u001b[0m\u001b[0mtest\u001b[0m\u001b[0;34m]\u001b[0m\u001b[0;34m)\u001b[0m\u001b[0;34m\u001b[0m\u001b[0m\n",
      "\u001b[0;32m~/anaconda/lib/python3.5/site-packages/sklearn/ensemble/weight_boosting.py\u001b[0m in \u001b[0;36mfit\u001b[0;34m(self, X, y, sample_weight)\u001b[0m\n\u001b[1;32m    411\u001b[0m \u001b[0;34m\u001b[0m\u001b[0m\n\u001b[1;32m    412\u001b[0m         \u001b[0;31m# Fit\u001b[0m\u001b[0;34m\u001b[0m\u001b[0;34m\u001b[0m\u001b[0m\n\u001b[0;32m--> 413\u001b[0;31m         \u001b[0;32mreturn\u001b[0m \u001b[0msuper\u001b[0m\u001b[0;34m(\u001b[0m\u001b[0mAdaBoostClassifier\u001b[0m\u001b[0;34m,\u001b[0m \u001b[0mself\u001b[0m\u001b[0;34m)\u001b[0m\u001b[0;34m.\u001b[0m\u001b[0mfit\u001b[0m\u001b[0;34m(\u001b[0m\u001b[0mX\u001b[0m\u001b[0;34m,\u001b[0m \u001b[0my\u001b[0m\u001b[0;34m,\u001b[0m \u001b[0msample_weight\u001b[0m\u001b[0;34m)\u001b[0m\u001b[0;34m\u001b[0m\u001b[0m\n\u001b[0m\u001b[1;32m    414\u001b[0m \u001b[0;34m\u001b[0m\u001b[0m\n\u001b[1;32m    415\u001b[0m     \u001b[0;32mdef\u001b[0m \u001b[0m_validate_estimator\u001b[0m\u001b[0;34m(\u001b[0m\u001b[0mself\u001b[0m\u001b[0;34m)\u001b[0m\u001b[0;34m:\u001b[0m\u001b[0;34m\u001b[0m\u001b[0m\n",
      "\u001b[0;32m~/anaconda/lib/python3.5/site-packages/sklearn/ensemble/weight_boosting.py\u001b[0m in \u001b[0;36mfit\u001b[0;34m(self, X, y, sample_weight)\u001b[0m\n\u001b[1;32m    143\u001b[0m                 \u001b[0mX\u001b[0m\u001b[0;34m,\u001b[0m \u001b[0my\u001b[0m\u001b[0;34m,\u001b[0m\u001b[0;34m\u001b[0m\u001b[0m\n\u001b[1;32m    144\u001b[0m                 \u001b[0msample_weight\u001b[0m\u001b[0;34m,\u001b[0m\u001b[0;34m\u001b[0m\u001b[0m\n\u001b[0;32m--> 145\u001b[0;31m                 random_state)\n\u001b[0m\u001b[1;32m    146\u001b[0m \u001b[0;34m\u001b[0m\u001b[0m\n\u001b[1;32m    147\u001b[0m             \u001b[0;31m# Early termination\u001b[0m\u001b[0;34m\u001b[0m\u001b[0;34m\u001b[0m\u001b[0m\n",
      "\u001b[0;32m~/anaconda/lib/python3.5/site-packages/sklearn/ensemble/weight_boosting.py\u001b[0m in \u001b[0;36m_boost\u001b[0;34m(self, iboost, X, y, sample_weight, random_state)\u001b[0m\n\u001b[1;32m    471\u001b[0m         \"\"\"\n\u001b[1;32m    472\u001b[0m         \u001b[0;32mif\u001b[0m \u001b[0mself\u001b[0m\u001b[0;34m.\u001b[0m\u001b[0malgorithm\u001b[0m \u001b[0;34m==\u001b[0m \u001b[0;34m'SAMME.R'\u001b[0m\u001b[0;34m:\u001b[0m\u001b[0;34m\u001b[0m\u001b[0m\n\u001b[0;32m--> 473\u001b[0;31m             \u001b[0;32mreturn\u001b[0m \u001b[0mself\u001b[0m\u001b[0;34m.\u001b[0m\u001b[0m_boost_real\u001b[0m\u001b[0;34m(\u001b[0m\u001b[0miboost\u001b[0m\u001b[0;34m,\u001b[0m \u001b[0mX\u001b[0m\u001b[0;34m,\u001b[0m \u001b[0my\u001b[0m\u001b[0;34m,\u001b[0m \u001b[0msample_weight\u001b[0m\u001b[0;34m,\u001b[0m \u001b[0mrandom_state\u001b[0m\u001b[0;34m)\u001b[0m\u001b[0;34m\u001b[0m\u001b[0m\n\u001b[0m\u001b[1;32m    474\u001b[0m \u001b[0;34m\u001b[0m\u001b[0m\n\u001b[1;32m    475\u001b[0m         \u001b[0;32melse\u001b[0m\u001b[0;34m:\u001b[0m  \u001b[0;31m# elif self.algorithm == \"SAMME\":\u001b[0m\u001b[0;34m\u001b[0m\u001b[0m\n",
      "\u001b[0;32m~/anaconda/lib/python3.5/site-packages/sklearn/ensemble/weight_boosting.py\u001b[0m in \u001b[0;36m_boost_real\u001b[0;34m(self, iboost, X, y, sample_weight, random_state)\u001b[0m\n\u001b[1;32m    481\u001b[0m         \u001b[0mestimator\u001b[0m \u001b[0;34m=\u001b[0m \u001b[0mself\u001b[0m\u001b[0;34m.\u001b[0m\u001b[0m_make_estimator\u001b[0m\u001b[0;34m(\u001b[0m\u001b[0mrandom_state\u001b[0m\u001b[0;34m=\u001b[0m\u001b[0mrandom_state\u001b[0m\u001b[0;34m)\u001b[0m\u001b[0;34m\u001b[0m\u001b[0m\n\u001b[1;32m    482\u001b[0m \u001b[0;34m\u001b[0m\u001b[0m\n\u001b[0;32m--> 483\u001b[0;31m         \u001b[0mestimator\u001b[0m\u001b[0;34m.\u001b[0m\u001b[0mfit\u001b[0m\u001b[0;34m(\u001b[0m\u001b[0mX\u001b[0m\u001b[0;34m,\u001b[0m \u001b[0my\u001b[0m\u001b[0;34m,\u001b[0m \u001b[0msample_weight\u001b[0m\u001b[0;34m=\u001b[0m\u001b[0msample_weight\u001b[0m\u001b[0;34m)\u001b[0m\u001b[0;34m\u001b[0m\u001b[0m\n\u001b[0m\u001b[1;32m    484\u001b[0m \u001b[0;34m\u001b[0m\u001b[0m\n\u001b[1;32m    485\u001b[0m         \u001b[0my_predict_proba\u001b[0m \u001b[0;34m=\u001b[0m \u001b[0mestimator\u001b[0m\u001b[0;34m.\u001b[0m\u001b[0mpredict_proba\u001b[0m\u001b[0;34m(\u001b[0m\u001b[0mX\u001b[0m\u001b[0;34m)\u001b[0m\u001b[0;34m\u001b[0m\u001b[0m\n",
      "\u001b[0;32m~/anaconda/lib/python3.5/site-packages/sklearn/ensemble/forest.py\u001b[0m in \u001b[0;36mfit\u001b[0;34m(self, X, y, sample_weight)\u001b[0m\n\u001b[1;32m    326\u001b[0m                     \u001b[0mt\u001b[0m\u001b[0;34m,\u001b[0m \u001b[0mself\u001b[0m\u001b[0;34m,\u001b[0m \u001b[0mX\u001b[0m\u001b[0;34m,\u001b[0m \u001b[0my\u001b[0m\u001b[0;34m,\u001b[0m \u001b[0msample_weight\u001b[0m\u001b[0;34m,\u001b[0m \u001b[0mi\u001b[0m\u001b[0;34m,\u001b[0m \u001b[0mlen\u001b[0m\u001b[0;34m(\u001b[0m\u001b[0mtrees\u001b[0m\u001b[0;34m)\u001b[0m\u001b[0;34m,\u001b[0m\u001b[0;34m\u001b[0m\u001b[0m\n\u001b[1;32m    327\u001b[0m                     verbose=self.verbose, class_weight=self.class_weight)\n\u001b[0;32m--> 328\u001b[0;31m                 for i, t in enumerate(trees))\n\u001b[0m\u001b[1;32m    329\u001b[0m \u001b[0;34m\u001b[0m\u001b[0m\n\u001b[1;32m    330\u001b[0m             \u001b[0;31m# Collect newly grown trees\u001b[0m\u001b[0;34m\u001b[0m\u001b[0;34m\u001b[0m\u001b[0m\n",
      "\u001b[0;32m~/anaconda/lib/python3.5/site-packages/sklearn/externals/joblib/parallel.py\u001b[0m in \u001b[0;36m__call__\u001b[0;34m(self, iterable)\u001b[0m\n\u001b[1;32m    787\u001b[0m                 \u001b[0;31m# consumption.\u001b[0m\u001b[0;34m\u001b[0m\u001b[0;34m\u001b[0m\u001b[0m\n\u001b[1;32m    788\u001b[0m                 \u001b[0mself\u001b[0m\u001b[0;34m.\u001b[0m\u001b[0m_iterating\u001b[0m \u001b[0;34m=\u001b[0m \u001b[0;32mFalse\u001b[0m\u001b[0;34m\u001b[0m\u001b[0m\n\u001b[0;32m--> 789\u001b[0;31m             \u001b[0mself\u001b[0m\u001b[0;34m.\u001b[0m\u001b[0mretrieve\u001b[0m\u001b[0;34m(\u001b[0m\u001b[0;34m)\u001b[0m\u001b[0;34m\u001b[0m\u001b[0m\n\u001b[0m\u001b[1;32m    790\u001b[0m             \u001b[0;31m# Make sure that we get a last message telling us we are done\u001b[0m\u001b[0;34m\u001b[0m\u001b[0;34m\u001b[0m\u001b[0m\n\u001b[1;32m    791\u001b[0m             \u001b[0melapsed_time\u001b[0m \u001b[0;34m=\u001b[0m \u001b[0mtime\u001b[0m\u001b[0;34m.\u001b[0m\u001b[0mtime\u001b[0m\u001b[0;34m(\u001b[0m\u001b[0;34m)\u001b[0m \u001b[0;34m-\u001b[0m \u001b[0mself\u001b[0m\u001b[0;34m.\u001b[0m\u001b[0m_start_time\u001b[0m\u001b[0;34m\u001b[0m\u001b[0m\n",
      "\u001b[0;32m~/anaconda/lib/python3.5/site-packages/sklearn/externals/joblib/parallel.py\u001b[0m in \u001b[0;36mretrieve\u001b[0;34m(self)\u001b[0m\n\u001b[1;32m    697\u001b[0m             \u001b[0;32mtry\u001b[0m\u001b[0;34m:\u001b[0m\u001b[0;34m\u001b[0m\u001b[0m\n\u001b[1;32m    698\u001b[0m                 \u001b[0;32mif\u001b[0m \u001b[0mgetattr\u001b[0m\u001b[0;34m(\u001b[0m\u001b[0mself\u001b[0m\u001b[0;34m.\u001b[0m\u001b[0m_backend\u001b[0m\u001b[0;34m,\u001b[0m \u001b[0;34m'supports_timeout'\u001b[0m\u001b[0;34m,\u001b[0m \u001b[0;32mFalse\u001b[0m\u001b[0;34m)\u001b[0m\u001b[0;34m:\u001b[0m\u001b[0;34m\u001b[0m\u001b[0m\n\u001b[0;32m--> 699\u001b[0;31m                     \u001b[0mself\u001b[0m\u001b[0;34m.\u001b[0m\u001b[0m_output\u001b[0m\u001b[0;34m.\u001b[0m\u001b[0mextend\u001b[0m\u001b[0;34m(\u001b[0m\u001b[0mjob\u001b[0m\u001b[0;34m.\u001b[0m\u001b[0mget\u001b[0m\u001b[0;34m(\u001b[0m\u001b[0mtimeout\u001b[0m\u001b[0;34m=\u001b[0m\u001b[0mself\u001b[0m\u001b[0;34m.\u001b[0m\u001b[0mtimeout\u001b[0m\u001b[0;34m)\u001b[0m\u001b[0;34m)\u001b[0m\u001b[0;34m\u001b[0m\u001b[0m\n\u001b[0m\u001b[1;32m    700\u001b[0m                 \u001b[0;32melse\u001b[0m\u001b[0;34m:\u001b[0m\u001b[0;34m\u001b[0m\u001b[0m\n\u001b[1;32m    701\u001b[0m                     \u001b[0mself\u001b[0m\u001b[0;34m.\u001b[0m\u001b[0m_output\u001b[0m\u001b[0;34m.\u001b[0m\u001b[0mextend\u001b[0m\u001b[0;34m(\u001b[0m\u001b[0mjob\u001b[0m\u001b[0;34m.\u001b[0m\u001b[0mget\u001b[0m\u001b[0;34m(\u001b[0m\u001b[0;34m)\u001b[0m\u001b[0;34m)\u001b[0m\u001b[0;34m\u001b[0m\u001b[0m\n",
      "\u001b[0;32m~/anaconda/lib/python3.5/multiprocessing/pool.py\u001b[0m in \u001b[0;36mget\u001b[0;34m(self, timeout)\u001b[0m\n\u001b[1;32m    636\u001b[0m \u001b[0;34m\u001b[0m\u001b[0m\n\u001b[1;32m    637\u001b[0m     \u001b[0;32mdef\u001b[0m \u001b[0mget\u001b[0m\u001b[0;34m(\u001b[0m\u001b[0mself\u001b[0m\u001b[0;34m,\u001b[0m \u001b[0mtimeout\u001b[0m\u001b[0;34m=\u001b[0m\u001b[0;32mNone\u001b[0m\u001b[0;34m)\u001b[0m\u001b[0;34m:\u001b[0m\u001b[0;34m\u001b[0m\u001b[0m\n\u001b[0;32m--> 638\u001b[0;31m         \u001b[0mself\u001b[0m\u001b[0;34m.\u001b[0m\u001b[0mwait\u001b[0m\u001b[0;34m(\u001b[0m\u001b[0mtimeout\u001b[0m\u001b[0;34m)\u001b[0m\u001b[0;34m\u001b[0m\u001b[0m\n\u001b[0m\u001b[1;32m    639\u001b[0m         \u001b[0;32mif\u001b[0m \u001b[0;32mnot\u001b[0m \u001b[0mself\u001b[0m\u001b[0;34m.\u001b[0m\u001b[0mready\u001b[0m\u001b[0;34m(\u001b[0m\u001b[0;34m)\u001b[0m\u001b[0;34m:\u001b[0m\u001b[0;34m\u001b[0m\u001b[0m\n\u001b[1;32m    640\u001b[0m             \u001b[0;32mraise\u001b[0m \u001b[0mTimeoutError\u001b[0m\u001b[0;34m\u001b[0m\u001b[0m\n",
      "\u001b[0;32m~/anaconda/lib/python3.5/multiprocessing/pool.py\u001b[0m in \u001b[0;36mwait\u001b[0;34m(self, timeout)\u001b[0m\n\u001b[1;32m    633\u001b[0m \u001b[0;34m\u001b[0m\u001b[0m\n\u001b[1;32m    634\u001b[0m     \u001b[0;32mdef\u001b[0m \u001b[0mwait\u001b[0m\u001b[0;34m(\u001b[0m\u001b[0mself\u001b[0m\u001b[0;34m,\u001b[0m \u001b[0mtimeout\u001b[0m\u001b[0;34m=\u001b[0m\u001b[0;32mNone\u001b[0m\u001b[0;34m)\u001b[0m\u001b[0;34m:\u001b[0m\u001b[0;34m\u001b[0m\u001b[0m\n\u001b[0;32m--> 635\u001b[0;31m         \u001b[0mself\u001b[0m\u001b[0;34m.\u001b[0m\u001b[0m_event\u001b[0m\u001b[0;34m.\u001b[0m\u001b[0mwait\u001b[0m\u001b[0;34m(\u001b[0m\u001b[0mtimeout\u001b[0m\u001b[0;34m)\u001b[0m\u001b[0;34m\u001b[0m\u001b[0m\n\u001b[0m\u001b[1;32m    636\u001b[0m \u001b[0;34m\u001b[0m\u001b[0m\n\u001b[1;32m    637\u001b[0m     \u001b[0;32mdef\u001b[0m \u001b[0mget\u001b[0m\u001b[0;34m(\u001b[0m\u001b[0mself\u001b[0m\u001b[0;34m,\u001b[0m \u001b[0mtimeout\u001b[0m\u001b[0;34m=\u001b[0m\u001b[0;32mNone\u001b[0m\u001b[0;34m)\u001b[0m\u001b[0;34m:\u001b[0m\u001b[0;34m\u001b[0m\u001b[0m\n",
      "\u001b[0;32m~/anaconda/lib/python3.5/threading.py\u001b[0m in \u001b[0;36mwait\u001b[0;34m(self, timeout)\u001b[0m\n\u001b[1;32m    547\u001b[0m             \u001b[0msignaled\u001b[0m \u001b[0;34m=\u001b[0m \u001b[0mself\u001b[0m\u001b[0;34m.\u001b[0m\u001b[0m_flag\u001b[0m\u001b[0;34m\u001b[0m\u001b[0m\n\u001b[1;32m    548\u001b[0m             \u001b[0;32mif\u001b[0m \u001b[0;32mnot\u001b[0m \u001b[0msignaled\u001b[0m\u001b[0;34m:\u001b[0m\u001b[0;34m\u001b[0m\u001b[0m\n\u001b[0;32m--> 549\u001b[0;31m                 \u001b[0msignaled\u001b[0m \u001b[0;34m=\u001b[0m \u001b[0mself\u001b[0m\u001b[0;34m.\u001b[0m\u001b[0m_cond\u001b[0m\u001b[0;34m.\u001b[0m\u001b[0mwait\u001b[0m\u001b[0;34m(\u001b[0m\u001b[0mtimeout\u001b[0m\u001b[0;34m)\u001b[0m\u001b[0;34m\u001b[0m\u001b[0m\n\u001b[0m\u001b[1;32m    550\u001b[0m             \u001b[0;32mreturn\u001b[0m \u001b[0msignaled\u001b[0m\u001b[0;34m\u001b[0m\u001b[0m\n\u001b[1;32m    551\u001b[0m \u001b[0;34m\u001b[0m\u001b[0m\n",
      "\u001b[0;32m~/anaconda/lib/python3.5/threading.py\u001b[0m in \u001b[0;36mwait\u001b[0;34m(self, timeout)\u001b[0m\n\u001b[1;32m    291\u001b[0m         \u001b[0;32mtry\u001b[0m\u001b[0;34m:\u001b[0m    \u001b[0;31m# restore state no matter what (e.g., KeyboardInterrupt)\u001b[0m\u001b[0;34m\u001b[0m\u001b[0m\n\u001b[1;32m    292\u001b[0m             \u001b[0;32mif\u001b[0m \u001b[0mtimeout\u001b[0m \u001b[0;32mis\u001b[0m \u001b[0;32mNone\u001b[0m\u001b[0;34m:\u001b[0m\u001b[0;34m\u001b[0m\u001b[0m\n\u001b[0;32m--> 293\u001b[0;31m                 \u001b[0mwaiter\u001b[0m\u001b[0;34m.\u001b[0m\u001b[0macquire\u001b[0m\u001b[0;34m(\u001b[0m\u001b[0;34m)\u001b[0m\u001b[0;34m\u001b[0m\u001b[0m\n\u001b[0m\u001b[1;32m    294\u001b[0m                 \u001b[0mgotit\u001b[0m \u001b[0;34m=\u001b[0m \u001b[0;32mTrue\u001b[0m\u001b[0;34m\u001b[0m\u001b[0m\n\u001b[1;32m    295\u001b[0m             \u001b[0;32melse\u001b[0m\u001b[0;34m:\u001b[0m\u001b[0;34m\u001b[0m\u001b[0m\n",
      "\u001b[0;31mKeyboardInterrupt\u001b[0m: "
     ]
    }
   ],
   "source": [
    "clf_AC=AdaBoostClassifier(base_estimator= RandomForestClassifier(\n",
    "    n_estimators=100,\n",
    "    criterion='gini',\n",
    "    max_depth=5,\n",
    "    min_samples_split=2,\n",
    "    min_samples_leaf=1,\n",
    "    min_weight_fraction_leaf=0.0,\n",
    "    max_features='auto',\n",
    "    max_leaf_nodes=None,\n",
    "    min_impurity_decrease=0.0,\n",
    "    min_impurity_split=None,\n",
    "    bootstrap=True,\n",
    "    oob_score=False,\n",
    "    n_jobs=-1,\n",
    "    random_state=0,\n",
    "    verbose=0,\n",
    "    warm_start=True),\n",
    "    n_estimators=10, learning_rate=1.0, random_state=None)\n",
    "\n",
    "\n",
    "cv = StratifiedKFold(n_splits=5, random_state=123, shuffle=True)\n",
    "results = pd.DataFrame(columns=['training_score', 'test_score'])\n",
    "fprs, tprs, scores, prec= [], [], [], []\n",
    "    \n",
    "#for (train, test), i in zip(cv.split(data, target), range(20)):\n",
    "for (train, test), i in zip(cv.split(x_train, y_train), range(5)):\n",
    "     \n",
    "    #print(i)\n",
    "    clf_AC.n_estimators += 10\n",
    "    #clf.fit(data.iloc[train], target.iloc[train])\n",
    "    clf_AC.fit(x_train.iloc[train], y_train.iloc[train])\n",
    "    \n",
    "    predictions=clf_AC.predict(x_train.iloc[test])\n",
    "    predictions2=clf_AC.predict(x_train.iloc[train])\n",
    "    \n",
    "    prec.append(metrics.average_precision_score(y_train.iloc[test],predictions))\n",
    "    \n",
    "    \n",
    "    \n",
    "    _, _, auc_score_train = compute_roc_auc(train)\n",
    "    \n",
    "    fpr, tpr, auc_score = compute_roc_auc(test)\n",
    "    \n",
    "    score = clf_ET.score(x_train.iloc[test], y_train.iloc[test])\n",
    "    #predictions=clf.predict(x_train.iloc[test])\n",
    "\n",
    "\n",
    "    prec1=metrics.average_precision_score(y_train.iloc[test],predictions)\n",
    "    prec2=metrics.average_precision_score(y_train.iloc[train],predictions2)\n",
    "    print(\"The test score is: \", prec1,\" train: \",prec2)\n",
    "    #score = clf.score(x_train, y_train)\n",
    "    #print(\"The train score is: \",score)\n",
    "    \n",
    "    #feature_importance[\"RF\"]=clf_RF.feature_importances_\n",
    "    scores.append((auc_score_train, auc_score))\n",
    "    #clf_AC.feature_importances_\n",
    "    fprs.append(fpr)\n",
    "    tprs.append(tpr)\n",
    "\n",
    "feature_importance[\"AC\"]=clf_AC.feature_importances_\n",
    "ROC_mean[\"AC\"]=mean_roc(fprs,tprs)\n",
    "mean_presition[\"AC\"]=np.mean(prec)\n",
    "#plot_roc_curve(fprs, tprs);\n",
    "#pd.DataFrame(scores, columns=['AUC Train', 'AUC Test'])"
   ]
  },
  {
   "cell_type": "code",
   "execution_count": null,
   "metadata": {},
   "outputs": [],
   "source": []
  }
 ],
 "metadata": {
  "anaconda-cloud": {},
  "kernelspec": {
   "display_name": "Python [Root]",
   "language": "python",
   "name": "Python [Root]"
  },
  "language_info": {
   "codemirror_mode": {
    "name": "ipython",
    "version": 3
   },
   "file_extension": ".py",
   "mimetype": "text/x-python",
   "name": "python",
   "nbconvert_exporter": "python",
   "pygments_lexer": "ipython3",
   "version": "3.5.5"
  }
 },
 "nbformat": 4,
 "nbformat_minor": 2
}
