{
 "cells": [
  {
   "cell_type": "code",
   "execution_count": 2,
   "metadata": {},
   "outputs": [],
   "source": [
    "% matplotlib inline\n",
    "import matplotlib.pyplot as plt\n",
    "import pandas as pd\n",
    "import numpy as np\n",
    "import requests\n",
    "from bs4 import BeautifulSoup\n",
    "import json\n",
    "import time\n",
    "from time import strftime\n",
    "from datetime import datetime\n",
    "import matplotlib \n",
    "from IPython.core.display import clear_output\n",
    "from sklearn.externals import joblib\n",
    "import seaborn as sns\n",
    "import re\n",
    "#import nlkt\n",
    "\n",
    "from sklearn.model_selection import train_test_split\n",
    "\n",
    "from sklearn.linear_model import LogisticRegression\n",
    "\n",
    "from sklearn.metrics import confusion_matrix\n",
    "import itertools\n",
    "\n",
    "from sklearn.metrics import roc_curve, auc\n",
    "from sklearn.metrics import classification_report"
   ]
  },
  {
   "cell_type": "code",
   "execution_count": 3,
   "metadata": {},
   "outputs": [],
   "source": [
    "bins=np.arange(0,50000+1000,1000)"
   ]
  },
  {
   "cell_type": "code",
   "execution_count": 409,
   "metadata": {},
   "outputs": [
    {
     "data": {
      "text/plain": [
       "array([    0,  1000,  2000,  3000,  4000,  5000,  6000,  7000,  8000,\n",
       "        9000, 10000, 11000, 12000, 13000, 14000, 15000, 16000, 17000,\n",
       "       18000, 19000, 20000, 21000, 22000, 23000, 24000, 25000, 26000,\n",
       "       27000, 28000, 29000, 30000, 31000, 32000, 33000, 34000, 35000,\n",
       "       36000, 37000, 38000, 39000, 40000, 41000, 42000, 43000, 44000,\n",
       "       45000, 46000, 47000, 48000, 49000, 50000])"
      ]
     },
     "execution_count": 409,
     "metadata": {},
     "output_type": "execute_result"
    }
   ],
   "source": [
    "bins"
   ]
  },
  {
   "cell_type": "code",
   "execution_count": 4,
   "metadata": {},
   "outputs": [],
   "source": [
    "features = joblib.load('/Users/natacha/Documents/Insight/Final Features/Final_Features_{}-{}.pkl'.format(\n",
    "            0,\n",
    "            999))\n",
    "\n",
    "features=features.drop(columns=[\"index0\",\"index1\"])\n",
    "\n",
    "for i in range(1,len(bins)-1):\n",
    "    \n",
    "    star_ID = bins[i]\n",
    "    fin_ID = bins[i+1]\n",
    "    \n",
    "    ff = joblib.load('/Users/natacha/Documents/Insight/Final Features/Final_Features_{}-{}.pkl'.format(\n",
    "            star_ID,\n",
    "            fin_ID-1))\n",
    "    ff=ff.drop(columns=[\"index0\",\"index1\"])\n",
    "    \n",
    "    features = pd.concat([features,ff])\n",
    "    "
   ]
  },
  {
   "cell_type": "code",
   "execution_count": 689,
   "metadata": {},
   "outputs": [
    {
     "data": {
      "text/plain": [
       "Index(['goal', 'founded_bool', 'code', 'num_videos', 'num_pics', 'num_perks',\n",
       "       'num_links', 'num_of_sent_about', 'num_of_sent_risk',\n",
       "       'num_of_sent_perks', 'num_of_words_about', 'num_of_words_risk',\n",
       "       'num_of_words_perks', 'freq_bold_A', 'freq_bold_R', 'freq_italic_A',\n",
       "       'freq_italic_R', 'num_of_exclamation_A', 'num_of_exclamation_R',\n",
       "       'num_of_exclamation_P', 'bool_A', 'bool_P', 'bool_R', 'freq_pitch_A',\n",
       "       'freq_pitch_R', 'freq_pitch_P', 'words_x_perk'],\n",
       "      dtype='object')"
      ]
     },
     "execution_count": 689,
     "metadata": {},
     "output_type": "execute_result"
    }
   ],
   "source": [
    "features.keys()"
   ]
  },
  {
   "cell_type": "code",
   "execution_count": 690,
   "metadata": {},
   "outputs": [
    {
     "data": {
      "text/plain": [
       "Index(['goal', 'founded_bool', 'code', 'num_videos', 'num_pics', 'num_perks',\n",
       "       'num_links', 'num_of_sent_about', 'num_of_sent_risk',\n",
       "       'num_of_sent_perks', 'num_of_words_about', 'num_of_words_risk',\n",
       "       'num_of_words_perks', 'freq_bold_A', 'freq_bold_R', 'freq_italic_A',\n",
       "       'freq_italic_R', 'num_of_exclamation_A', 'num_of_exclamation_R',\n",
       "       'num_of_exclamation_P', 'bool_A', 'bool_P', 'bool_R', 'freq_pitch_A',\n",
       "       'freq_pitch_R', 'freq_pitch_P', 'words_x_perk'],\n",
       "      dtype='object')"
      ]
     },
     "execution_count": 690,
     "metadata": {},
     "output_type": "execute_result"
    }
   ],
   "source": [
    "features1.keys()"
   ]
  },
  {
   "cell_type": "code",
   "execution_count": 14,
   "metadata": {},
   "outputs": [],
   "source": [
    "features[\"words_x_perk\"]=features[\"num_of_words_perks\"]/features[\"num_perks\"]\n",
    "\n",
    "features=features.apply(lambda x: x.fillna(x.mean()),axis=0);"
   ]
  },
  {
   "cell_type": "code",
   "execution_count": 15,
   "metadata": {},
   "outputs": [
    {
     "data": {
      "text/plain": [
       "goal                    False\n",
       "founded_bool            False\n",
       "code                    False\n",
       "num_videos              False\n",
       "num_pics                False\n",
       "num_perks               False\n",
       "num_links               False\n",
       "num_of_sent_about       False\n",
       "num_of_sent_risk        False\n",
       "num_of_sent_perks       False\n",
       "num_of_words_about      False\n",
       "num_of_words_risk       False\n",
       "num_of_words_perks      False\n",
       "freq_bold_A             False\n",
       "freq_bold_R             False\n",
       "freq_italic_A           False\n",
       "freq_italic_R           False\n",
       "num_of_exclamation_A    False\n",
       "num_of_exclamation_R    False\n",
       "num_of_exclamation_P    False\n",
       "bool_A                  False\n",
       "bool_P                  False\n",
       "bool_R                  False\n",
       "freq_pitch_A            False\n",
       "freq_pitch_R            False\n",
       "freq_pitch_P            False\n",
       "words_x_perk            False\n",
       "dtype: bool"
      ]
     },
     "execution_count": 15,
     "metadata": {},
     "output_type": "execute_result"
    }
   ],
   "source": [
    "features.isnull().any()"
   ]
  },
  {
   "cell_type": "code",
   "execution_count": 16,
   "metadata": {},
   "outputs": [],
   "source": [
    "features1=features[features[\"goal\"]<10000]"
   ]
  },
  {
   "cell_type": "code",
   "execution_count": 8,
   "metadata": {},
   "outputs": [],
   "source": [
    "def plot_confusion_matrix(cm, classes,\n",
    "                          normalize=False,\n",
    "                          title='Confusion matrix',\n",
    "                          cmap=plt.cm.Blues):\n",
    "    \"\"\"\n",
    "    This function prints and plots the confusion matrix.\n",
    "    Normalization can be applied by setting `normalize=True`.\n",
    "    \"\"\"\n",
    "    if normalize:\n",
    "        cm = cm.astype('float') / cm.sum(axis=1)[:, np.newaxis]\n",
    "        print(\"Normalized confusion matrix\")\n",
    "    else:\n",
    "        print('Confusion matrix, without normalization')\n",
    "\n",
    "    print(cm)\n",
    "\n",
    "    plt.imshow(cm, interpolation='nearest', cmap=cmap)\n",
    "    plt.title(title)\n",
    "    plt.colorbar()\n",
    "    tick_marks = np.arange(len(classes))\n",
    "    plt.xticks(tick_marks, classes, rotation=45)\n",
    "    plt.yticks(tick_marks, classes)\n",
    "\n",
    "    fmt = '.2f' if normalize else 'd'\n",
    "    thresh = cm.max() / 2.\n",
    "    for i, j in itertools.product(range(cm.shape[0]), range(cm.shape[1])):\n",
    "        plt.text(j, i, format(cm[i, j], fmt),\n",
    "                 horizontalalignment=\"center\",\n",
    "                 color=\"white\" if cm[i, j] > thresh else \"black\")\n",
    "\n",
    "    plt.tight_layout()\n",
    "    plt.ylabel('True label')\n",
    "    plt.xlabel('Predicted label')"
   ]
  },
  {
   "cell_type": "code",
   "execution_count": 17,
   "metadata": {},
   "outputs": [
    {
     "data": {
      "text/plain": [
       "27"
      ]
     },
     "execution_count": 17,
     "metadata": {},
     "output_type": "execute_result"
    }
   ],
   "source": [
    "len(features1.keys())"
   ]
  },
  {
   "cell_type": "code",
   "execution_count": 104,
   "metadata": {},
   "outputs": [],
   "source": [
    "# I am removing bool_A bool_P since for no algorithm they make a difference\n",
    "\n",
    "target=features1[\"founded_bool\"]\n",
    "data=features1.drop(columns=[\"founded_bool\",\"bool_A\",\"bool_P\",\"num_of_words_perks\",\"goal\"])\n",
    "x_train, x_test, y_train, y_test = train_test_split(data, target, test_size=0.25, random_state=10)"
   ]
  },
  {
   "cell_type": "code",
   "execution_count": 19,
   "metadata": {},
   "outputs": [
    {
     "data": {
      "text/plain": [
       "Index(['goal', 'code', 'num_videos', 'num_pics', 'num_perks', 'num_links',\n",
       "       'num_of_sent_about', 'num_of_sent_risk', 'num_of_sent_perks',\n",
       "       'num_of_words_about', 'num_of_words_risk', 'freq_bold_A', 'freq_bold_R',\n",
       "       'freq_italic_A', 'freq_italic_R', 'num_of_exclamation_A',\n",
       "       'num_of_exclamation_R', 'num_of_exclamation_P', 'bool_R',\n",
       "       'freq_pitch_A', 'freq_pitch_R', 'freq_pitch_P', 'words_x_perk'],\n",
       "      dtype='object')"
      ]
     },
     "execution_count": 19,
     "metadata": {},
     "output_type": "execute_result"
    }
   ],
   "source": [
    "data.keys()"
   ]
  },
  {
   "cell_type": "code",
   "execution_count": 12,
   "metadata": {},
   "outputs": [
    {
     "data": {
      "text/plain": [
       "Index(['goal', 'code', 'num_videos', 'num_pics', 'num_perks', 'num_links',\n",
       "       'num_of_sent_about', 'num_of_sent_risk', 'num_of_sent_perks',\n",
       "       'num_of_words_about', 'num_of_words_risk', 'freq_bold_A', 'freq_bold_R',\n",
       "       'freq_italic_A', 'freq_italic_R', 'num_of_exclamation_A',\n",
       "       'num_of_exclamation_R', 'num_of_exclamation_P', 'bool_R',\n",
       "       'freq_pitch_A', 'freq_pitch_R', 'freq_pitch_P', 'words_x_perk'],\n",
       "      dtype='object')"
      ]
     },
     "execution_count": 12,
     "metadata": {},
     "output_type": "execute_result"
    }
   ],
   "source": [
    "data.keys()"
   ]
  },
  {
   "cell_type": "markdown",
   "metadata": {},
   "source": [
    "# Models\n",
    "\n",
    "Decission Tree -> Hyper={}, name=clf_DS\n",
    "\n",
    "Random Forest -> Hyper={}, name=clf_RF\n",
    "\n",
    "EXTRA Tree -> Hyper={}, name=clf_ET\n",
    "\n",
    "ADABoost -> Hyper={}, name=clf_AB\n",
    "\n",
    "\n",
    "\n",
    "#### We will use the  model which can get higher pression after a warm start and after doing a 15-fold crossvalidation"
   ]
  },
  {
   "cell_type": "code",
   "execution_count": 105,
   "metadata": {},
   "outputs": [],
   "source": [
    "mean_presition={}\n",
    "feature_importance={}\n",
    "ROC_mean={}"
   ]
  },
  {
   "cell_type": "markdown",
   "metadata": {},
   "source": [
    "# Random Forest"
   ]
  },
  {
   "cell_type": "code",
   "execution_count": 106,
   "metadata": {},
   "outputs": [],
   "source": [
    "from sklearn.ensemble import RandomForestClassifier\n",
    "from sklearn import metrics\n",
    "from sklearn.metrics import roc_curve, auc\n",
    "from sklearn.metrics import classification_report\n",
    "from itertools import cycle\n",
    "\n",
    "from sklearn import svm, datasets\n",
    "from sklearn.metrics import roc_curve, auc\n",
    "from sklearn.model_selection import StratifiedKFold\n",
    "\n"
   ]
  },
  {
   "cell_type": "code",
   "execution_count": 107,
   "metadata": {},
   "outputs": [],
   "source": [
    "def mean_roc(fprs, tprs):\n",
    "    tprs_interp = []\n",
    "    aucs = []\n",
    "    mean_fpr = np.linspace(0, 1, 100)\n",
    "    \n",
    "    \n",
    "    for i, (fpr, tpr) in enumerate(zip(fprs, tprs)):\n",
    "        tprs_interp.append(np.interp(mean_fpr, fpr, tpr))\n",
    "        tprs_interp[-1][0] = 0.0\n",
    "        roc_auc = auc(fpr, tpr)\n",
    "        aucs.append(roc_auc)\n",
    "        #ax.plot(fpr, tpr, lw=1, alpha=0.3,\n",
    "                 #label='ROC fold %d (AUC = %0.2f)' % (i, roc_auc))\n",
    "            \n",
    "    mean_tpr = np.mean(tprs_interp, axis=0)\n",
    "    mean_tpr[-1] = 1.0\n",
    "    mean_auc = auc(mean_fpr, mean_tpr)\n",
    "    std_auc = np.std(aucs)\n",
    "    #ax.plot(mean_fpr, mean_tpr, color='b',\n",
    "             #label=r'Mean ROC (AUC = %0.2f $\\pm$ %0.2f)' % (mean_auc, std_auc),\n",
    "             #lw=2, alpha=.8)    \n",
    "            \n",
    "    return (mean_fpr, mean_tpr)        "
   ]
  },
  {
   "cell_type": "code",
   "execution_count": 108,
   "metadata": {},
   "outputs": [],
   "source": [
    "def compute_roc_auc(index):\n",
    "    y_predict = clf_RF.predict_proba(x_train.iloc[index])[:,1]\n",
    "    fpr, tpr, thresholds = roc_curve(y_train.iloc[index], y_predict)\n",
    "    auc_score = auc(fpr, tpr)\n",
    "    return fpr, tpr, auc_score"
   ]
  },
  {
   "cell_type": "code",
   "execution_count": 109,
   "metadata": {},
   "outputs": [],
   "source": [
    "clf_RF = RandomForestClassifier(\n",
    "    n_estimators=150,\n",
    "    criterion='gini',\n",
    "    max_depth=13,\n",
    "    min_samples_split=2,\n",
    "    min_samples_leaf=1,\n",
    "    min_weight_fraction_leaf=0.0,\n",
    "    max_features='auto',\n",
    "    max_leaf_nodes=None,\n",
    "    min_impurity_decrease=0.0,\n",
    "    min_impurity_split=None,\n",
    "    bootstrap=True,\n",
    "    oob_score=False,\n",
    "    n_jobs=-1,\n",
    "    random_state=0,\n",
    "    verbose=0,\n",
    "    warm_start=True)\n",
    "    #class_weight='balanced'\n",
    "#)"
   ]
  },
  {
   "cell_type": "code",
   "execution_count": 110,
   "metadata": {
    "scrolled": false
   },
   "outputs": [
    {
     "name": "stdout",
     "output_type": "stream",
     "text": [
      "The test score is:  0.7354831330955096  train:  0.8679919339750368\n",
      "The test score is:  0.8491035749776983  train:  0.8366180961037872\n",
      "The test score is:  0.8603047393057522  train:  0.8337782501480621\n",
      "The test score is:  0.8679908425321399  train:  0.831603699145824\n",
      "The test score is:  0.864937306464769  train:  0.8328585488895746\n"
     ]
    }
   ],
   "source": [
    "cv = StratifiedKFold(n_splits=5, random_state=123, shuffle=True)\n",
    "results = pd.DataFrame(columns=['training_score', 'test_score'])\n",
    "fprs, tprs, scores, prec= [], [], [], []\n",
    "    \n",
    "#for (train, test), i in zip(cv.split(data, target), range(20)):\n",
    "for (train, test), i in zip(cv.split(x_train, y_train), range(5)):\n",
    "     \n",
    "    #print(i)\n",
    "    clf_RF.n_estimators += 10\n",
    "    #clf.fit(data.iloc[train], target.iloc[train])\n",
    "    clf_RF.fit(x_train.iloc[train], y_train.iloc[train])\n",
    "    \n",
    "    predictions=clf_RF.predict(x_train.iloc[test])\n",
    "    predictions2=clf_RF.predict(x_train.iloc[train])\n",
    "    \n",
    "    prec.append(metrics.average_precision_score(y_train.iloc[test],predictions))\n",
    "    \n",
    "    \n",
    "    \n",
    "    _, _, auc_score_train = compute_roc_auc(train)\n",
    "    \n",
    "    fpr, tpr, auc_score = compute_roc_auc(test)\n",
    "    \n",
    "    score = clf_RF.score(x_train.iloc[test], y_train.iloc[test])\n",
    "    #predictions=clf.predict(x_train.iloc[test])\n",
    "\n",
    "\n",
    "    prec1=metrics.average_precision_score(y_train.iloc[test],predictions)\n",
    "    prec2=metrics.average_precision_score(y_train.iloc[train],predictions2)\n",
    "    print(\"The test score is: \", prec1,\" train: \",prec2)\n",
    "    \n",
    "    #score = clf.score(x_train, y_train)\n",
    "    #print(\"The train score is: \",score)\n",
    "    \n",
    "    #feature_importance[\"RF\"]=clf_RF.feature_importances_\n",
    "    scores.append((auc_score_train, auc_score))\n",
    "    clf_RF.feature_importances_\n",
    "    fprs.append(fpr)\n",
    "    tprs.append(tpr)\n",
    "\n",
    "feature_importance[\"RF\"]=clf_RF.feature_importances_\n",
    "ROC_mean[\"RF\"]=mean_roc(fprs,tprs)\n",
    "mean_presition[\"RF\"]=np.mean(prec)\n",
    "#plot_roc_curve(fprs, tprs);\n",
    "auc_RF=pd.DataFrame(scores, columns=['AUC Train', 'AUC Test'])\n",
    "#pd.DataFrame(scores, columns=['AUC Train', 'AUC Test'])"
   ]
  },
  {
   "cell_type": "code",
   "execution_count": 636,
   "metadata": {},
   "outputs": [
    {
     "data": {
      "text/plain": [
       "['trained_clf.pkl']"
      ]
     },
     "execution_count": 636,
     "metadata": {},
     "output_type": "execute_result"
    }
   ],
   "source": [
    " #for the model that predicts probability I have trained with the goal\n",
    "    # precission =0.84\n",
    "    #auc=0.8\n",
    "    \n",
    "    #Index(['goal', 'code', 'num_videos', 'num_pics', 'num_perks', 'num_links',\n",
    "       #'num_of_sent_about', 'num_of_sent_risk', 'num_of_sent_perks',\n",
    "       #'num_of_words_about', 'num_of_words_risk', 'freq_bold_A', 'freq_bold_R',\n",
    "       #'freq_italic_A', 'freq_italic_R', 'num_of_exclamation_A',\n",
    "       #'num_of_exclamation_R', 'num_of_exclamation_P', 'bool_R',\n",
    "       #'freq_pitch_A', 'freq_pitch_R', 'freq_pitch_P', 'words_x_perk'],\n",
    "     # dtype='object')\n",
    "joblib.dump(clf_RF, 'trained_clf.pkl')"
   ]
  },
  {
   "cell_type": "code",
   "execution_count": 436,
   "metadata": {},
   "outputs": [
    {
     "data": {
      "text/plain": [
       "RandomForestClassifier(bootstrap=True, class_weight=None, criterion='gini',\n",
       "            max_depth=13, max_features='auto', max_leaf_nodes=None,\n",
       "            min_impurity_decrease=0.0, min_impurity_split=None,\n",
       "            min_samples_leaf=2, min_samples_split=2,\n",
       "            min_weight_fraction_leaf=0.0, n_estimators=310, n_jobs=-1,\n",
       "            oob_score=False, random_state=0, verbose=0, warm_start=True)"
      ]
     },
     "execution_count": 436,
     "metadata": {},
     "output_type": "execute_result"
    }
   ],
   "source": [
    "clf_RF.n_estimators += 10\n",
    "clf_RF.fit(x_train,y_train)"
   ]
  },
  {
   "cell_type": "code",
   "execution_count": 647,
   "metadata": {},
   "outputs": [
    {
     "data": {
      "text/plain": [
       "0.7395971535399831"
      ]
     },
     "execution_count": 647,
     "metadata": {},
     "output_type": "execute_result"
    }
   ],
   "source": [
    "clf_RF.score(x_test,y_test)"
   ]
  },
  {
   "cell_type": "code",
   "execution_count": 55,
   "metadata": {},
   "outputs": [],
   "source": [
    "predictions=clf_RF.predict(x_test)"
   ]
  },
  {
   "cell_type": "code",
   "execution_count": 28,
   "metadata": {},
   "outputs": [
    {
     "name": "stdout",
     "output_type": "stream",
     "text": [
      "             precision    recall  f1-score   support\n",
      "\n",
      "      False       0.75      0.53      0.62      3174\n",
      "       True       0.75      0.89      0.82      5117\n",
      "\n",
      "avg / total       0.75      0.75      0.74      8291\n",
      "\n"
     ]
    }
   ],
   "source": [
    "print(classification_report(y_test,predictions))"
   ]
  },
  {
   "cell_type": "code",
   "execution_count": 56,
   "metadata": {},
   "outputs": [
    {
     "data": {
      "text/plain": [
       "'             precision    recall  f1-score   support\\n\\n      False       0.75      0.53      0.62      3174\\n       True       0.75      0.89      0.82      5117\\n\\navg / total       0.75      0.75      0.74      8291\\n'"
      ]
     },
     "execution_count": 56,
     "metadata": {},
     "output_type": "execute_result"
    }
   ],
   "source": [
    "classification_report(y_test,predictions)"
   ]
  },
  {
   "cell_type": "code",
   "execution_count": 618,
   "metadata": {},
   "outputs": [
    {
     "data": {
      "text/plain": [
       "0.9168073984720547"
      ]
     },
     "execution_count": 618,
     "metadata": {},
     "output_type": "execute_result"
    }
   ],
   "source": [
    "clf_RF.score(x_train,y_train)"
   ]
  },
  {
   "cell_type": "code",
   "execution_count": 633,
   "metadata": {},
   "outputs": [
    {
     "data": {
      "text/plain": [
       "0.8470999739503512"
      ]
     },
     "execution_count": 633,
     "metadata": {},
     "output_type": "execute_result"
    }
   ],
   "source": [
    "mean_presition[\"RF\"]"
   ]
  },
  {
   "cell_type": "code",
   "execution_count": 648,
   "metadata": {},
   "outputs": [],
   "source": [
    "auc_RF=pd.DataFrame(scores, columns=['AUC Train', 'AUC Test'])"
   ]
  },
  {
   "cell_type": "code",
   "execution_count": 635,
   "metadata": {},
   "outputs": [
    {
     "data": {
      "text/html": [
       "<div>\n",
       "<style scoped>\n",
       "    .dataframe tbody tr th:only-of-type {\n",
       "        vertical-align: middle;\n",
       "    }\n",
       "\n",
       "    .dataframe tbody tr th {\n",
       "        vertical-align: top;\n",
       "    }\n",
       "\n",
       "    .dataframe thead th {\n",
       "        text-align: right;\n",
       "    }\n",
       "</style>\n",
       "<table border=\"1\" class=\"dataframe\">\n",
       "  <thead>\n",
       "    <tr style=\"text-align: right;\">\n",
       "      <th></th>\n",
       "      <th>AUC Train</th>\n",
       "      <th>AUC Test</th>\n",
       "    </tr>\n",
       "  </thead>\n",
       "  <tbody>\n",
       "    <tr>\n",
       "      <th>0</th>\n",
       "      <td>0.973434</td>\n",
       "      <td>0.808565</td>\n",
       "    </tr>\n",
       "    <tr>\n",
       "      <th>1</th>\n",
       "      <td>0.943440</td>\n",
       "      <td>0.967710</td>\n",
       "    </tr>\n",
       "    <tr>\n",
       "      <th>2</th>\n",
       "      <td>0.944789</td>\n",
       "      <td>0.969090</td>\n",
       "    </tr>\n",
       "    <tr>\n",
       "      <th>3</th>\n",
       "      <td>0.945153</td>\n",
       "      <td>0.972076</td>\n",
       "    </tr>\n",
       "    <tr>\n",
       "      <th>4</th>\n",
       "      <td>0.946867</td>\n",
       "      <td>0.970956</td>\n",
       "    </tr>\n",
       "  </tbody>\n",
       "</table>\n",
       "</div>"
      ],
      "text/plain": [
       "   AUC Train  AUC Test\n",
       "0   0.973434  0.808565\n",
       "1   0.943440  0.967710\n",
       "2   0.944789  0.969090\n",
       "3   0.945153  0.972076\n",
       "4   0.946867  0.970956"
      ]
     },
     "execution_count": 635,
     "metadata": {},
     "output_type": "execute_result"
    }
   ],
   "source": [
    "auc_RF"
   ]
  },
  {
   "cell_type": "markdown",
   "metadata": {},
   "source": [
    "# Decission Tree"
   ]
  },
  {
   "cell_type": "code",
   "execution_count": 111,
   "metadata": {},
   "outputs": [],
   "source": [
    "def compute_roc_auc(index):\n",
    "    y_predict = clf_DT.predict_proba(x_train.iloc[index])[:,1]\n",
    "    fpr, tpr, thresholds = roc_curve(y_train.iloc[index], y_predict)\n",
    "    auc_score = auc(fpr, tpr)\n",
    "    return fpr, tpr, auc_score"
   ]
  },
  {
   "cell_type": "code",
   "execution_count": 112,
   "metadata": {},
   "outputs": [],
   "source": [
    "from sklearn import tree\n",
    "#x_train, x_test, y_train, y_test = train_test_split(data, target, test_size=0.25, random_state=10)\n",
    "\n",
    "#rf.fit(x_train, y_train)\n",
    "clf_DT = tree.DecisionTreeClassifier(max_depth=8,\n",
    "    min_samples_split=2,\n",
    "    min_samples_leaf=1)\n",
    "#clf_DT.fit(x_train, y_train)"
   ]
  },
  {
   "cell_type": "code",
   "execution_count": null,
   "metadata": {},
   "outputs": [],
   "source": []
  },
  {
   "cell_type": "code",
   "execution_count": 113,
   "metadata": {
    "scrolled": false
   },
   "outputs": [
    {
     "name": "stdout",
     "output_type": "stream",
     "text": [
      "The test score is:  0.7378600670798128  train:  0.7639735875731202\n",
      "The test score is:  0.7184159799629716  train:  0.7525279728247315\n",
      "The test score is:  0.7261635353219607  train:  0.7543702609800114\n",
      "The test score is:  0.741380023573291  train:  0.7573472432150403\n",
      "The test score is:  0.7337544515703711  train:  0.7526008279973811\n"
     ]
    }
   ],
   "source": [
    "cv = StratifiedKFold(n_splits=5, random_state=123, shuffle=True)\n",
    "results = pd.DataFrame(columns=['training_score', 'test_score'])\n",
    "fprs, tprs, scores, prec= [], [], [], []\n",
    "    \n",
    "#for (train, test), i in zip(cv.split(data, target), range(20)):\n",
    "for (train, test), i in zip(cv.split(x_train, y_train), range(5)):\n",
    "     \n",
    "    #print(i)\n",
    "    #clf_RF.n_estimators += 10\n",
    "    #clf.fit(data.iloc[train], target.iloc[train])\n",
    "    clf_DT.fit(x_train.iloc[train], y_train.iloc[train])\n",
    "    \n",
    "    predictions=clf_DT.predict(x_train.iloc[test])\n",
    "    predictions2=clf_DT.predict(x_train.iloc[train])\n",
    "    \n",
    "    prec.append(metrics.average_precision_score(y_train.iloc[test],predictions))\n",
    "    \n",
    "    \n",
    "    \n",
    "    _, _, auc_score_train = compute_roc_auc(train)\n",
    "    \n",
    "    fpr, tpr, auc_score = compute_roc_auc(test)\n",
    "    \n",
    "    score = clf_DT.score(x_train.iloc[test], y_train.iloc[test])\n",
    "    #predictions=clf.predict(x_train.iloc[test])\n",
    "\n",
    "\n",
    "    prec1=metrics.average_precision_score(y_train.iloc[test],predictions)\n",
    "    prec2=metrics.average_precision_score(y_train.iloc[train],predictions2)\n",
    "    print(\"The test score is: \", prec1,\" train: \",prec2)\n",
    "    \n",
    "    #score = clf.score(x_train, y_train)\n",
    "    #print(\"The train score is: \",score)\n",
    "    \n",
    "    #feature_importance[\"RF\"]=clf_RF.feature_importances_\n",
    "    scores.append((auc_score_train, auc_score))\n",
    "    clf_DT.feature_importances_\n",
    "    fprs.append(fpr)\n",
    "    tprs.append(tpr)\n",
    "\n",
    "feature_importance[\"DT\"]=clf_DT.feature_importances_\n",
    "ROC_mean[\"DT\"]=mean_roc(fprs,tprs)\n",
    "mean_presition[\"DT\"]=np.mean(prec)\n",
    "auc_DT=pd.DataFrame(scores, columns=['AUC Train', 'AUC Test'])\n",
    "#plot_roc_curve(fprs, tprs);\n",
    "#pd.DataFrame(scores, columns=['AUC Train', 'AUC Test'])"
   ]
  },
  {
   "cell_type": "code",
   "execution_count": 578,
   "metadata": {},
   "outputs": [
    {
     "data": {
      "text/plain": [
       "0.7328428416355084"
      ]
     },
     "execution_count": 578,
     "metadata": {},
     "output_type": "execute_result"
    }
   ],
   "source": [
    "clf_DT.score(x_test,y_test)"
   ]
  },
  {
   "cell_type": "code",
   "execution_count": 580,
   "metadata": {},
   "outputs": [
    {
     "data": {
      "text/plain": [
       "0.7680739847205469"
      ]
     },
     "execution_count": 580,
     "metadata": {},
     "output_type": "execute_result"
    }
   ],
   "source": [
    "clf_DT.score(x_train,y_train)"
   ]
  },
  {
   "cell_type": "code",
   "execution_count": 579,
   "metadata": {},
   "outputs": [
    {
     "data": {
      "text/plain": [
       "0.7380738589779423"
      ]
     },
     "execution_count": 579,
     "metadata": {},
     "output_type": "execute_result"
    }
   ],
   "source": [
    "mean_presition[\"DT\"]"
   ]
  },
  {
   "cell_type": "code",
   "execution_count": 664,
   "metadata": {},
   "outputs": [],
   "source": [
    "auc_DT=pd.DataFrame(scores, columns=['AUC Train', 'AUC Test'])"
   ]
  },
  {
   "cell_type": "code",
   "execution_count": 582,
   "metadata": {},
   "outputs": [
    {
     "data": {
      "text/html": [
       "<div>\n",
       "<style scoped>\n",
       "    .dataframe tbody tr th:only-of-type {\n",
       "        vertical-align: middle;\n",
       "    }\n",
       "\n",
       "    .dataframe tbody tr th {\n",
       "        vertical-align: top;\n",
       "    }\n",
       "\n",
       "    .dataframe thead th {\n",
       "        text-align: right;\n",
       "    }\n",
       "</style>\n",
       "<table border=\"1\" class=\"dataframe\">\n",
       "  <thead>\n",
       "    <tr style=\"text-align: right;\">\n",
       "      <th></th>\n",
       "      <th>AUC Train</th>\n",
       "      <th>AUC Test</th>\n",
       "    </tr>\n",
       "  </thead>\n",
       "  <tbody>\n",
       "    <tr>\n",
       "      <th>0</th>\n",
       "      <td>0.830354</td>\n",
       "      <td>0.778781</td>\n",
       "    </tr>\n",
       "    <tr>\n",
       "      <th>1</th>\n",
       "      <td>0.833665</td>\n",
       "      <td>0.777952</td>\n",
       "    </tr>\n",
       "    <tr>\n",
       "      <th>2</th>\n",
       "      <td>0.832600</td>\n",
       "      <td>0.776107</td>\n",
       "    </tr>\n",
       "    <tr>\n",
       "      <th>3</th>\n",
       "      <td>0.832942</td>\n",
       "      <td>0.781832</td>\n",
       "    </tr>\n",
       "    <tr>\n",
       "      <th>4</th>\n",
       "      <td>0.831054</td>\n",
       "      <td>0.772388</td>\n",
       "    </tr>\n",
       "  </tbody>\n",
       "</table>\n",
       "</div>"
      ],
      "text/plain": [
       "   AUC Train  AUC Test\n",
       "0   0.830354  0.778781\n",
       "1   0.833665  0.777952\n",
       "2   0.832600  0.776107\n",
       "3   0.832942  0.781832\n",
       "4   0.831054  0.772388"
      ]
     },
     "execution_count": 582,
     "metadata": {},
     "output_type": "execute_result"
    }
   ],
   "source": [
    "pd.DataFrame(scores, columns=['AUC Train', 'AUC Test'])"
   ]
  },
  {
   "cell_type": "markdown",
   "metadata": {},
   "source": [
    "# ADABoost"
   ]
  },
  {
   "cell_type": "code",
   "execution_count": 114,
   "metadata": {},
   "outputs": [],
   "source": [
    "clf_AC=AdaBoostClassifier(base_estimator=tree.DecisionTreeClassifier(max_depth=3,min_samples_split=2,\n",
    "                            min_samples_leaf=1,),                         \n",
    "                          n_estimators=150, learning_rate=1.0, random_state=None)"
   ]
  },
  {
   "cell_type": "code",
   "execution_count": 70,
   "metadata": {},
   "outputs": [],
   "source": []
  },
  {
   "cell_type": "code",
   "execution_count": 115,
   "metadata": {},
   "outputs": [],
   "source": [
    "def compute_roc_auc(index):\n",
    "    y_predict = clf_AC.predict_proba(x_train.iloc[index])[:,1]\n",
    "    fpr, tpr, thresholds = roc_curve(y_train.iloc[index], y_predict)\n",
    "    auc_score = auc(fpr, tpr)\n",
    "    return fpr, tpr, auc_score"
   ]
  },
  {
   "cell_type": "code",
   "execution_count": null,
   "metadata": {},
   "outputs": [],
   "source": []
  },
  {
   "cell_type": "code",
   "execution_count": 116,
   "metadata": {
    "scrolled": false
   },
   "outputs": [
    {
     "name": "stdout",
     "output_type": "stream",
     "text": [
      "The test score is:  0.7243924830374525  train:  0.8021461464782133\n",
      "The test score is:  0.7301489918841648  train:  0.8050332995191404\n",
      "The test score is:  0.7262388481795442  train:  0.8138834416078495\n",
      "The test score is:  0.7260473588347962  train:  0.8108309365008548\n",
      "The test score is:  0.7225468981914454  train:  0.8156900444323508\n"
     ]
    }
   ],
   "source": [
    "clf_AC=AdaBoostClassifier(base_estimator=tree.DecisionTreeClassifier(max_depth=3,min_samples_split=2,\n",
    "                            min_samples_leaf=1,),                         \n",
    "                          n_estimators=150, learning_rate=1.0, random_state=None)\n",
    "\n",
    "\n",
    "cv = StratifiedKFold(n_splits=5, random_state=123, shuffle=True)\n",
    "results = pd.DataFrame(columns=['training_score', 'test_score'])\n",
    "fprs, tprs, scores, prec= [], [], [], []\n",
    "    \n",
    "#for (train, test), i in zip(cv.split(data, target), range(20)):\n",
    "for (train, test), i in zip(cv.split(x_train, y_train), range(5)):\n",
    "     \n",
    "    #print(i)\n",
    "    clf_AC.n_estimators += 10\n",
    "    #clf.fit(data.iloc[train], target.iloc[train])\n",
    "    clf_AC.fit(x_train.iloc[train], y_train.iloc[train])\n",
    "    \n",
    "    predictions=clf_AC.predict(x_train.iloc[test])\n",
    "    predictions2=clf_AC.predict(x_train.iloc[train])\n",
    "    \n",
    "    prec.append(metrics.average_precision_score(y_train.iloc[test],predictions))\n",
    "    \n",
    "    \n",
    "    \n",
    "    _, _, auc_score_train = compute_roc_auc(train)\n",
    "    \n",
    "    fpr, tpr, auc_score = compute_roc_auc(test)\n",
    "    \n",
    "    score = clf_AC.score(x_train.iloc[test], y_train.iloc[test])\n",
    "    #predictions=clf.predict(x_train.iloc[test])\n",
    "\n",
    "\n",
    "    prec1=metrics.average_precision_score(y_train.iloc[test],predictions)\n",
    "    prec2=metrics.average_precision_score(y_train.iloc[train],predictions2)\n",
    "    print(\"The test score is: \", prec1,\" train: \",prec2)\n",
    "    #score = clf.score(x_train, y_train)\n",
    "    #print(\"The train score is: \",score)\n",
    "    \n",
    "    #feature_importance[\"RF\"]=clf_RF.feature_importances_\n",
    "    scores.append((auc_score_train, auc_score))\n",
    "    #clf_AC.feature_importances_\n",
    "    fprs.append(fpr)\n",
    "    tprs.append(tpr)\n",
    "\n",
    "feature_importance[\"AC\"]=clf_AC.feature_importances_\n",
    "ROC_mean[\"AC\"]=mean_roc(fprs,tprs)\n",
    "mean_presition[\"AC\"]=np.mean(prec)\n",
    "#plot_roc_curve(fprs, tprs);\n",
    "auc_AC=pd.DataFrame(scores, columns=['AUC Train', 'AUC Test'])\n",
    "#pd.DataFrame(scores, columns=['AUC Train', 'AUC Test'])"
   ]
  },
  {
   "cell_type": "code",
   "execution_count": 37,
   "metadata": {},
   "outputs": [
    {
     "data": {
      "text/plain": [
       "0.7268122060065131"
      ]
     },
     "execution_count": 37,
     "metadata": {},
     "output_type": "execute_result"
    }
   ],
   "source": [
    "clf_AC.score(x_test,y_test)"
   ]
  },
  {
   "cell_type": "code",
   "execution_count": 38,
   "metadata": {},
   "outputs": [
    {
     "data": {
      "text/plain": [
       "0.8253719340570969"
      ]
     },
     "execution_count": 38,
     "metadata": {},
     "output_type": "execute_result"
    }
   ],
   "source": [
    "clf_AC.score(x_train,y_train)"
   ]
  },
  {
   "cell_type": "code",
   "execution_count": 677,
   "metadata": {},
   "outputs": [],
   "source": [
    "auc_AC=pd.DataFrame(scores, columns=['AUC Train', 'AUC Test'])"
   ]
  },
  {
   "cell_type": "code",
   "execution_count": 678,
   "metadata": {},
   "outputs": [
    {
     "data": {
      "text/html": [
       "<div>\n",
       "<style scoped>\n",
       "    .dataframe tbody tr th:only-of-type {\n",
       "        vertical-align: middle;\n",
       "    }\n",
       "\n",
       "    .dataframe tbody tr th {\n",
       "        vertical-align: top;\n",
       "    }\n",
       "\n",
       "    .dataframe thead th {\n",
       "        text-align: right;\n",
       "    }\n",
       "</style>\n",
       "<table border=\"1\" class=\"dataframe\">\n",
       "  <thead>\n",
       "    <tr style=\"text-align: right;\">\n",
       "      <th></th>\n",
       "      <th>AUC Train</th>\n",
       "      <th>AUC Test</th>\n",
       "    </tr>\n",
       "  </thead>\n",
       "  <tbody>\n",
       "    <tr>\n",
       "      <th>0</th>\n",
       "      <td>0.942901</td>\n",
       "      <td>0.921908</td>\n",
       "    </tr>\n",
       "    <tr>\n",
       "      <th>1</th>\n",
       "      <td>0.938485</td>\n",
       "      <td>0.940515</td>\n",
       "    </tr>\n",
       "    <tr>\n",
       "      <th>2</th>\n",
       "      <td>0.938397</td>\n",
       "      <td>0.940793</td>\n",
       "    </tr>\n",
       "    <tr>\n",
       "      <th>3</th>\n",
       "      <td>0.936654</td>\n",
       "      <td>0.947515</td>\n",
       "    </tr>\n",
       "    <tr>\n",
       "      <th>4</th>\n",
       "      <td>0.937862</td>\n",
       "      <td>0.942836</td>\n",
       "    </tr>\n",
       "  </tbody>\n",
       "</table>\n",
       "</div>"
      ],
      "text/plain": [
       "   AUC Train  AUC Test\n",
       "0   0.942901  0.921908\n",
       "1   0.938485  0.940515\n",
       "2   0.938397  0.940793\n",
       "3   0.936654  0.947515\n",
       "4   0.937862  0.942836"
      ]
     },
     "execution_count": 678,
     "metadata": {},
     "output_type": "execute_result"
    }
   ],
   "source": [
    "pd.DataFrame(scores, columns=['AUC Train', 'AUC Test'])"
   ]
  },
  {
   "cell_type": "code",
   "execution_count": 679,
   "metadata": {},
   "outputs": [
    {
     "data": {
      "text/plain": [
       "0.7258447987629703"
      ]
     },
     "execution_count": 679,
     "metadata": {},
     "output_type": "execute_result"
    }
   ],
   "source": [
    "mean_presition[\"AC\"]"
   ]
  },
  {
   "cell_type": "code",
   "execution_count": 78,
   "metadata": {},
   "outputs": [
    {
     "data": {
      "text/plain": [
       "200"
      ]
     },
     "execution_count": 78,
     "metadata": {},
     "output_type": "execute_result"
    }
   ],
   "source": [
    "clf_AC.n_estimators"
   ]
  },
  {
   "cell_type": "code",
   "execution_count": null,
   "metadata": {},
   "outputs": [],
   "source": []
  },
  {
   "cell_type": "markdown",
   "metadata": {},
   "source": [
    "# Extra Tree"
   ]
  },
  {
   "cell_type": "code",
   "execution_count": 33,
   "metadata": {},
   "outputs": [],
   "source": [
    "from sklearn.ensemble import (RandomForestClassifier, ExtraTreesClassifier,\n",
    "                              AdaBoostClassifier)"
   ]
  },
  {
   "cell_type": "code",
   "execution_count": 117,
   "metadata": {},
   "outputs": [],
   "source": [
    "def mean_roc(fprs, tprs):\n",
    "    tprs_interp = []\n",
    "    aucs = []\n",
    "    mean_fpr = np.linspace(0, 1, 100)\n",
    "    \n",
    "    \n",
    "    for i, (fpr, tpr) in enumerate(zip(fprs, tprs)):\n",
    "        tprs_interp.append(np.interp(mean_fpr, fpr, tpr))\n",
    "        tprs_interp[-1][0] = 0.0\n",
    "        roc_auc = auc(fpr, tpr)\n",
    "        aucs.append(roc_auc)\n",
    "        #ax.plot(fpr, tpr, lw=1, alpha=0.3,\n",
    "                 #label='ROC fold %d (AUC = %0.2f)' % (i, roc_auc))\n",
    "            \n",
    "    mean_tpr = np.mean(tprs_interp, axis=0)\n",
    "    mean_tpr[-1] = 1.0\n",
    "    mean_auc = auc(mean_fpr, mean_tpr)\n",
    "    std_auc = np.std(aucs)\n",
    "    #ax.plot(mean_fpr, mean_tpr, color='b',\n",
    "             #label=r'Mean ROC (AUC = %0.2f $\\pm$ %0.2f)' % (mean_auc, std_auc),\n",
    "             #lw=2, alpha=.8)    \n",
    "            \n",
    "    return (mean_fpr, mean_tpr)        "
   ]
  },
  {
   "cell_type": "code",
   "execution_count": 118,
   "metadata": {},
   "outputs": [],
   "source": [
    "def compute_roc_auc(index):\n",
    "    y_predict = clf_ET.predict_proba(x_train.iloc[index])[:,1]\n",
    "    fpr, tpr, thresholds = roc_curve(y_train.iloc[index], y_predict)\n",
    "    auc_score = auc(fpr, tpr)\n",
    "    return fpr, tpr, auc_score"
   ]
  },
  {
   "cell_type": "code",
   "execution_count": 119,
   "metadata": {},
   "outputs": [],
   "source": [
    "clf_ET = ExtraTreesClassifier(n_estimators=150,\n",
    "    criterion='gini',\n",
    "    max_depth=20,\n",
    "    min_samples_split=2,\n",
    "    min_samples_leaf=1,\n",
    "    min_weight_fraction_leaf=0.0,\n",
    "    max_features='auto',\n",
    "    max_leaf_nodes=None,\n",
    "    min_impurity_decrease=0.0,\n",
    "    min_impurity_split=None,\n",
    "    bootstrap=True,\n",
    "    oob_score=False,\n",
    "    n_jobs=-1,\n",
    "    random_state=0,\n",
    "    verbose=0,\n",
    "    warm_start=True)\n",
    "\n",
    "    #class_weight='balanced')\n",
    "#clf_ET.fit(x_train, y_train)"
   ]
  },
  {
   "cell_type": "code",
   "execution_count": 120,
   "metadata": {
    "scrolled": false
   },
   "outputs": [
    {
     "name": "stdout",
     "output_type": "stream",
     "text": [
      "The test score is:  0.7324183914676093 0.8585067618897885\n",
      "The test score is:  0.8436104061632312 0.8254904832724151\n",
      "The test score is:  0.8490626926221823 0.823935633505788\n",
      "The test score is:  0.8589386207671483 0.8218800144403697\n",
      "The test score is:  0.85243036122247 0.8229774659126179\n"
     ]
    }
   ],
   "source": [
    "cv = StratifiedKFold(n_splits=5, random_state=123, shuffle=True)\n",
    "results = pd.DataFrame(columns=['training_score', 'test_score'])\n",
    "fprs, tprs, scores, prec= [], [], [], []\n",
    "    \n",
    "#for (train, test), i in zip(cv.split(data, target), range(20)):\n",
    "for (train, test), i in zip(cv.split(x_train, y_train), range(5)):\n",
    "     \n",
    "    #print(i)\n",
    "    clf_ET.n_estimators += 10\n",
    "    #clf.fit(data.iloc[train], target.iloc[train])\n",
    "    clf_ET.fit(x_train.iloc[train], y_train.iloc[train])\n",
    "    \n",
    "    predictions=clf_ET.predict(x_train.iloc[test])\n",
    "    predictions2=clf_ET.predict(x_train.iloc[train])\n",
    "    \n",
    "    prec.append(metrics.average_precision_score(y_train.iloc[test],predictions))\n",
    "    \n",
    "    \n",
    "    \n",
    "    _, _, auc_score_train = compute_roc_auc(train)\n",
    "    \n",
    "    fpr, tpr, auc_score = compute_roc_auc(test)\n",
    "    \n",
    "    score = clf_ET.score(x_train.iloc[test], y_train.iloc[test])\n",
    "    #predictions=clf.predict(x_train.iloc[test])\n",
    "\n",
    "\n",
    "    prec1=metrics.average_precision_score(y_train.iloc[test],predictions)\n",
    "    prec2=metrics.average_precision_score(y_train.iloc[train],predictions2)\n",
    "    print(\"The test score is: \", prec1,prec2)\n",
    "    \n",
    "    #score = clf.score(x_train, y_train)\n",
    "    #print(\"The train score is: \",score)\n",
    "    \n",
    "    #feature_importance[\"RF\"]=clf_RF.feature_importances_\n",
    "    scores.append((auc_score_train, auc_score))\n",
    "    clf_ET.feature_importances_\n",
    "    fprs.append(fpr)\n",
    "    tprs.append(tpr)\n",
    "\n",
    "feature_importance[\"ET\"]=clf_ET.feature_importances_\n",
    "ROC_mean[\"ET\"]=mean_roc(fprs,tprs)\n",
    "mean_presition[\"ET\"]=np.mean(prec)\n",
    "#plot_roc_curve(fprs, tprs);\n",
    "auc_ET=pd.DataFrame(scores, columns=['AUC Train', 'AUC Test'])\n",
    "#pd.DataFrame(scores, columns=['AUC Train', 'AUC Test'])"
   ]
  },
  {
   "cell_type": "code",
   "execution_count": null,
   "metadata": {},
   "outputs": [],
   "source": []
  },
  {
   "cell_type": "code",
   "execution_count": 469,
   "metadata": {},
   "outputs": [
    {
     "data": {
      "text/plain": [
       "0.8578062127189813"
      ]
     },
     "execution_count": 469,
     "metadata": {},
     "output_type": "execute_result"
    }
   ],
   "source": [
    "mean_presition[\"ET\"]"
   ]
  },
  {
   "cell_type": "code",
   "execution_count": 673,
   "metadata": {},
   "outputs": [],
   "source": [
    "auc_ET=pd.DataFrame(scores, columns=['AUC Train', 'AUC Test'])"
   ]
  },
  {
   "cell_type": "code",
   "execution_count": 52,
   "metadata": {},
   "outputs": [
    {
     "data": {
      "text/plain": [
       "0.9346603547811474"
      ]
     },
     "execution_count": 52,
     "metadata": {},
     "output_type": "execute_result"
    }
   ],
   "source": [
    "np.mean(auc_ET[\"AUC Test\"])"
   ]
  },
  {
   "cell_type": "code",
   "execution_count": 51,
   "metadata": {},
   "outputs": [
    {
     "data": {
      "text/plain": [
       "0.9458338424698173"
      ]
     },
     "execution_count": 51,
     "metadata": {},
     "output_type": "execute_result"
    }
   ],
   "source": [
    "np.mean(auc_RF[\"AUC Test\"])"
   ]
  },
  {
   "cell_type": "code",
   "execution_count": 53,
   "metadata": {},
   "outputs": [
    {
     "data": {
      "text/plain": [
       "{'AC': 0.7423441072230496,\n",
       " 'DT': 0.7401775440650693,\n",
       " 'ET': 0.8496301437627973,\n",
       " 'RF': 0.8481872886938315}"
      ]
     },
     "execution_count": 53,
     "metadata": {},
     "output_type": "execute_result"
    }
   ],
   "source": [
    "mean_presition"
   ]
  },
  {
   "cell_type": "code",
   "execution_count": 121,
   "metadata": {},
   "outputs": [
    {
     "data": {
      "text/plain": [
       "{'AC': 0.7258749160254807,\n",
       " 'DT': 0.7315148115016814,\n",
       " 'ET': 0.8272920944485282,\n",
       " 'RF': 0.8355639192751738}"
      ]
     },
     "execution_count": 121,
     "metadata": {},
     "output_type": "execute_result"
    }
   ],
   "source": [
    "mean_presition"
   ]
  },
  {
   "cell_type": "code",
   "execution_count": 46,
   "metadata": {},
   "outputs": [],
   "source": [
    "plt.style.use('fivethirtyeight')"
   ]
  },
  {
   "cell_type": "code",
   "execution_count": 122,
   "metadata": {},
   "outputs": [
    {
     "data": {
      "image/png": "[encoded data removed]",
      "text/plain": [
       "<Figure size 504x360 with 1 Axes>"
      ]
     },
     "metadata": {},
     "output_type": "display_data"
    }
   ],
   "source": [
    "plt.figure(figsize=(7,5))\n",
    "\n",
    "plt.plot(ROC_mean[\"ET\"][0],ROC_mean[\"ET\"][1],label='ET (AUC = %0.2f, p=%0.2f)' % (np.mean(auc_ET[\"AUC Test\"]), mean_presition[\"ET\"]),lw=2)\n",
    "plt.plot(ROC_mean[\"RF\"][0],ROC_mean[\"RF\"][1],label='RF (AUC = %0.2f, p=%0.2f)' % (np.mean(auc_RF[\"AUC Test\"]), mean_presition[\"RF\"]),lw=2)\n",
    "plt.plot(ROC_mean[\"AC\"][0],ROC_mean[\"AC\"][1],label='AB (AUC = %0.2f, p=%0.2f)' % (np.mean(auc_AC[\"AUC Test\"]), mean_presition[\"AC\"]),lw=2)\n",
    "plt.plot(ROC_mean[\"DT\"][0],ROC_mean[\"DT\"][1],label='DT (AUC = %0.2f, p=%0.2f)' % (np.mean(auc_DT[\"AUC Test\"]), mean_presition[\"DT\"]),lw=2)\n",
    "plt.plot([0, 1], [0, 1], linestyle='--', lw=1, color='r', alpha=.8)\n",
    "\n",
    "plt.xlim([-0.05, 1.05])\n",
    "plt.ylim([-0.05, 1.05])\n",
    "plt.xlabel('False Positive Rate')\n",
    "plt.ylabel('True Positive Rate')\n",
    "plt.title('Receiver operating characteristic')\n",
    "\n",
    "#col_labels=['col1','col2','col3']\n",
    "#row_labels=['row1','row2','row3']\n",
    "#table_vals=[[11,12,13],[21,22,23],[31,32,33]]\n",
    "# the rectangle is where I want to place the table\n",
    "#the_table = plt.table(cellText=table_vals,\n",
    "                  #colWidths = [0.1]*4,\n",
    "                  #rowLabels=row_labels,\n",
    "                  #colLabels=col_labels,\n",
    "                  #loc='center right')\n",
    "#plt.text(12,3.4,'Table Title',size=8)\n",
    "\n",
    "    #ax.legend(loc=\"lower right\")\n",
    "plt.legend()\n",
    "plt.savefig(\"roc_curve.jpg\",bbox_inches='tight')    \n",
    "#plt.legend()"
   ]
  },
  {
   "cell_type": "code",
   "execution_count": 81,
   "metadata": {},
   "outputs": [],
   "source": [
    "plt.table?"
   ]
  },
  {
   "cell_type": "code",
   "execution_count": 485,
   "metadata": {},
   "outputs": [],
   "source": [
    "predictions=clf_ET.predict(x_test)"
   ]
  },
  {
   "cell_type": "code",
   "execution_count": 486,
   "metadata": {},
   "outputs": [
    {
     "name": "stdout",
     "output_type": "stream",
     "text": [
      "             precision    recall  f1-score   support\n",
      "\n",
      "      False       0.74      0.53      0.62      3154\n",
      "       True       0.75      0.89      0.82      5137\n",
      "\n",
      "avg / total       0.75      0.75      0.74      8291\n",
      "\n"
     ]
    }
   ],
   "source": [
    "print(classification_report(y_test, predictions))"
   ]
  },
  {
   "cell_type": "code",
   "execution_count": 473,
   "metadata": {},
   "outputs": [
    {
     "data": {
      "text/plain": [
       "0.7505729103847546"
      ]
     },
     "execution_count": 473,
     "metadata": {},
     "output_type": "execute_result"
    }
   ],
   "source": [
    "clf_ET.score(x_test,y_test)"
   ]
  },
  {
   "cell_type": "code",
   "execution_count": 474,
   "metadata": {},
   "outputs": [
    {
     "data": {
      "text/plain": [
       "0.8831926015279453"
      ]
     },
     "execution_count": 474,
     "metadata": {},
     "output_type": "execute_result"
    }
   ],
   "source": [
    "clf_ET.score(x_train,y_train)"
   ]
  },
  {
   "cell_type": "code",
   "execution_count": 279,
   "metadata": {},
   "outputs": [
    {
     "data": {
      "text/plain": [
       "0.7418887950790013"
      ]
     },
     "execution_count": 279,
     "metadata": {},
     "output_type": "execute_result"
    }
   ],
   "source": [
    "clf_RF.score(x_test,y_test)"
   ]
  },
  {
   "cell_type": "code",
   "execution_count": 280,
   "metadata": {},
   "outputs": [
    {
     "data": {
      "text/plain": [
       "0.8524728588661037"
      ]
     },
     "execution_count": 280,
     "metadata": {},
     "output_type": "execute_result"
    }
   ],
   "source": [
    "clf_RF.score(x_train,y_train)"
   ]
  },
  {
   "cell_type": "code",
   "execution_count": 277,
   "metadata": {},
   "outputs": [
    {
     "data": {
      "text/plain": [
       "0.8267312208369404"
      ]
     },
     "execution_count": 277,
     "metadata": {},
     "output_type": "execute_result"
    }
   ],
   "source": [
    "mean_presition[\"ET\"]"
   ]
  },
  {
   "cell_type": "code",
   "execution_count": 278,
   "metadata": {},
   "outputs": [
    {
     "data": {
      "text/plain": [
       "0.8233115998484466"
      ]
     },
     "execution_count": 278,
     "metadata": {},
     "output_type": "execute_result"
    }
   ],
   "source": [
    "mean_presition[\"RF\"]"
   ]
  },
  {
   "cell_type": "markdown",
   "metadata": {},
   "source": [
    "# Feature Importance"
   ]
  },
  {
   "cell_type": "code",
   "execution_count": 153,
   "metadata": {},
   "outputs": [],
   "source": [
    "feature_final=pd.DataFrame()"
   ]
  },
  {
   "cell_type": "code",
   "execution_count": 161,
   "metadata": {},
   "outputs": [],
   "source": [
    "sum1=np.zeros(22)\n",
    "al=0\n",
    "for key in feature_importance.keys():\n",
    "    sum1=sum1+feature_importance[key]*mean_presition[key]\n",
    "    al=al+mean_presition[key]"
   ]
  },
  {
   "cell_type": "code",
   "execution_count": null,
   "metadata": {},
   "outputs": [],
   "source": [
    "x_values = list(range(len(importances)))\n"
   ]
  },
  {
   "cell_type": "code",
   "execution_count": 166,
   "metadata": {},
   "outputs": [],
   "source": [
    "feature_final[\"names\"]=list(x_test.columns)\n",
    "feature_final[\"RF\"]=feature_importance[\"RF\"]\n",
    "feature_final[\"AB\"]=feature_importance[\"AC\"]\n",
    "feature_final[\"DT\"]=feature_importance[\"DT\"]\n",
    "feature_final[\"ET\"]=feature_importance[\"ET\"]\n",
    "\n",
    "feature_final[\"RF_t\"]=feature_importance[\"RF\"]*mean_presition[\"RF\"]/al\n",
    "feature_final[\"AB_t\"]=feature_importance[\"AC\"]*mean_presition[\"AC\"]/al\n",
    "feature_final[\"DT_t\"]=feature_importance[\"DT\"]*mean_presition[\"DT\"]/al\n",
    "feature_final[\"ET_t\"]=feature_importance[\"ET\"]*mean_presition[\"ET\"]/al\n",
    "\n",
    "feature_final[\"total\"]=sum1"
   ]
  },
  {
   "cell_type": "code",
   "execution_count": 174,
   "metadata": {},
   "outputs": [],
   "source": [
    "x_values = list(range(len(feature_final)))"
   ]
  },
  {
   "cell_type": "code",
   "execution_count": 171,
   "metadata": {},
   "outputs": [],
   "source": [
    "feature_final=feature_final.sort_values(by=[\"total\"],ascending=False)"
   ]
  },
  {
   "cell_type": "code",
   "execution_count": 172,
   "metadata": {},
   "outputs": [
    {
     "data": {
      "text/html": [
       "<div>\n",
       "<style scoped>\n",
       "    .dataframe tbody tr th:only-of-type {\n",
       "        vertical-align: middle;\n",
       "    }\n",
       "\n",
       "    .dataframe tbody tr th {\n",
       "        vertical-align: top;\n",
       "    }\n",
       "\n",
       "    .dataframe thead th {\n",
       "        text-align: right;\n",
       "    }\n",
       "</style>\n",
       "<table border=\"1\" class=\"dataframe\">\n",
       "  <thead>\n",
       "    <tr style=\"text-align: right;\">\n",
       "      <th></th>\n",
       "      <th>names</th>\n",
       "      <th>RF</th>\n",
       "      <th>AB</th>\n",
       "      <th>DT</th>\n",
       "      <th>ET</th>\n",
       "      <th>RF_t</th>\n",
       "      <th>AB_t</th>\n",
       "      <th>DT_t</th>\n",
       "      <th>ET_t</th>\n",
       "      <th>total</th>\n",
       "    </tr>\n",
       "  </thead>\n",
       "  <tbody>\n",
       "    <tr>\n",
       "      <th>3</th>\n",
       "      <td>num_perks</td>\n",
       "      <td>0.128313</td>\n",
       "      <td>0.041063</td>\n",
       "      <td>0.464832</td>\n",
       "      <td>0.109930</td>\n",
       "      <td>0.034361</td>\n",
       "      <td>0.009553</td>\n",
       "      <td>0.108976</td>\n",
       "      <td>0.029146</td>\n",
       "      <td>0.567995</td>\n",
       "    </tr>\n",
       "    <tr>\n",
       "      <th>17</th>\n",
       "      <td>bool_R</td>\n",
       "      <td>0.036465</td>\n",
       "      <td>0.008839</td>\n",
       "      <td>0.135741</td>\n",
       "      <td>0.110630</td>\n",
       "      <td>0.009765</td>\n",
       "      <td>0.002056</td>\n",
       "      <td>0.031823</td>\n",
       "      <td>0.029332</td>\n",
       "      <td>0.227706</td>\n",
       "    </tr>\n",
       "    <tr>\n",
       "      <th>8</th>\n",
       "      <td>num_of_words_about</td>\n",
       "      <td>0.072891</td>\n",
       "      <td>0.087899</td>\n",
       "      <td>0.033709</td>\n",
       "      <td>0.061699</td>\n",
       "      <td>0.019519</td>\n",
       "      <td>0.020448</td>\n",
       "      <td>0.007903</td>\n",
       "      <td>0.016359</td>\n",
       "      <td>0.200410</td>\n",
       "    </tr>\n",
       "    <tr>\n",
       "      <th>0</th>\n",
       "      <td>code</td>\n",
       "      <td>0.052302</td>\n",
       "      <td>0.048421</td>\n",
       "      <td>0.075838</td>\n",
       "      <td>0.061115</td>\n",
       "      <td>0.014006</td>\n",
       "      <td>0.011264</td>\n",
       "      <td>0.017780</td>\n",
       "      <td>0.016204</td>\n",
       "      <td>0.184886</td>\n",
       "    </tr>\n",
       "    <tr>\n",
       "      <th>21</th>\n",
       "      <td>words_x_perk</td>\n",
       "      <td>0.056557</td>\n",
       "      <td>0.096755</td>\n",
       "      <td>0.012680</td>\n",
       "      <td>0.045556</td>\n",
       "      <td>0.015145</td>\n",
       "      <td>0.022508</td>\n",
       "      <td>0.002973</td>\n",
       "      <td>0.012079</td>\n",
       "      <td>0.164453</td>\n",
       "    </tr>\n",
       "    <tr>\n",
       "      <th>10</th>\n",
       "      <td>freq_bold_A</td>\n",
       "      <td>0.053751</td>\n",
       "      <td>0.057771</td>\n",
       "      <td>0.052542</td>\n",
       "      <td>0.045563</td>\n",
       "      <td>0.014394</td>\n",
       "      <td>0.013439</td>\n",
       "      <td>0.012318</td>\n",
       "      <td>0.012080</td>\n",
       "      <td>0.162976</td>\n",
       "    </tr>\n",
       "    <tr>\n",
       "      <th>20</th>\n",
       "      <td>freq_pitch_P</td>\n",
       "      <td>0.055440</td>\n",
       "      <td>0.080241</td>\n",
       "      <td>0.025293</td>\n",
       "      <td>0.046962</td>\n",
       "      <td>0.014846</td>\n",
       "      <td>0.018667</td>\n",
       "      <td>0.005930</td>\n",
       "      <td>0.012451</td>\n",
       "      <td>0.161921</td>\n",
       "    </tr>\n",
       "    <tr>\n",
       "      <th>18</th>\n",
       "      <td>freq_pitch_A</td>\n",
       "      <td>0.052765</td>\n",
       "      <td>0.099220</td>\n",
       "      <td>0.012849</td>\n",
       "      <td>0.038672</td>\n",
       "      <td>0.014130</td>\n",
       "      <td>0.023082</td>\n",
       "      <td>0.003012</td>\n",
       "      <td>0.010253</td>\n",
       "      <td>0.157503</td>\n",
       "    </tr>\n",
       "    <tr>\n",
       "      <th>7</th>\n",
       "      <td>num_of_sent_perks</td>\n",
       "      <td>0.074163</td>\n",
       "      <td>0.037655</td>\n",
       "      <td>0.010570</td>\n",
       "      <td>0.062312</td>\n",
       "      <td>0.019860</td>\n",
       "      <td>0.008760</td>\n",
       "      <td>0.002478</td>\n",
       "      <td>0.016521</td>\n",
       "      <td>0.148583</td>\n",
       "    </tr>\n",
       "    <tr>\n",
       "      <th>5</th>\n",
       "      <td>num_of_sent_about</td>\n",
       "      <td>0.064712</td>\n",
       "      <td>0.041932</td>\n",
       "      <td>0.018330</td>\n",
       "      <td>0.060328</td>\n",
       "      <td>0.017329</td>\n",
       "      <td>0.009755</td>\n",
       "      <td>0.004297</td>\n",
       "      <td>0.015995</td>\n",
       "      <td>0.147825</td>\n",
       "    </tr>\n",
       "    <tr>\n",
       "      <th>9</th>\n",
       "      <td>num_of_words_risk</td>\n",
       "      <td>0.061865</td>\n",
       "      <td>0.077259</td>\n",
       "      <td>0.008851</td>\n",
       "      <td>0.030018</td>\n",
       "      <td>0.016567</td>\n",
       "      <td>0.017973</td>\n",
       "      <td>0.002075</td>\n",
       "      <td>0.007959</td>\n",
       "      <td>0.139081</td>\n",
       "    </tr>\n",
       "    <tr>\n",
       "      <th>12</th>\n",
       "      <td>freq_italic_A</td>\n",
       "      <td>0.037938</td>\n",
       "      <td>0.064383</td>\n",
       "      <td>0.035750</td>\n",
       "      <td>0.036475</td>\n",
       "      <td>0.010159</td>\n",
       "      <td>0.014978</td>\n",
       "      <td>0.008381</td>\n",
       "      <td>0.009671</td>\n",
       "      <td>0.134761</td>\n",
       "    </tr>\n",
       "    <tr>\n",
       "      <th>2</th>\n",
       "      <td>num_pics</td>\n",
       "      <td>0.033300</td>\n",
       "      <td>0.041411</td>\n",
       "      <td>0.039309</td>\n",
       "      <td>0.049745</td>\n",
       "      <td>0.008917</td>\n",
       "      <td>0.009634</td>\n",
       "      <td>0.009216</td>\n",
       "      <td>0.013189</td>\n",
       "      <td>0.127793</td>\n",
       "    </tr>\n",
       "    <tr>\n",
       "      <th>14</th>\n",
       "      <td>num_of_exclamation_A</td>\n",
       "      <td>0.034891</td>\n",
       "      <td>0.033349</td>\n",
       "      <td>0.030571</td>\n",
       "      <td>0.053698</td>\n",
       "      <td>0.009343</td>\n",
       "      <td>0.007758</td>\n",
       "      <td>0.007167</td>\n",
       "      <td>0.014237</td>\n",
       "      <td>0.120147</td>\n",
       "    </tr>\n",
       "    <tr>\n",
       "      <th>16</th>\n",
       "      <td>num_of_exclamation_P</td>\n",
       "      <td>0.035963</td>\n",
       "      <td>0.038953</td>\n",
       "      <td>0.014953</td>\n",
       "      <td>0.049726</td>\n",
       "      <td>0.009631</td>\n",
       "      <td>0.009062</td>\n",
       "      <td>0.003506</td>\n",
       "      <td>0.013184</td>\n",
       "      <td>0.110401</td>\n",
       "    </tr>\n",
       "    <tr>\n",
       "      <th>4</th>\n",
       "      <td>num_links</td>\n",
       "      <td>0.034642</td>\n",
       "      <td>0.038023</td>\n",
       "      <td>0.015585</td>\n",
       "      <td>0.044586</td>\n",
       "      <td>0.009277</td>\n",
       "      <td>0.008846</td>\n",
       "      <td>0.003654</td>\n",
       "      <td>0.011822</td>\n",
       "      <td>0.104833</td>\n",
       "    </tr>\n",
       "    <tr>\n",
       "      <th>19</th>\n",
       "      <td>freq_pitch_R</td>\n",
       "      <td>0.041041</td>\n",
       "      <td>0.059560</td>\n",
       "      <td>0.002088</td>\n",
       "      <td>0.029499</td>\n",
       "      <td>0.010990</td>\n",
       "      <td>0.013856</td>\n",
       "      <td>0.000489</td>\n",
       "      <td>0.007821</td>\n",
       "      <td>0.103458</td>\n",
       "    </tr>\n",
       "    <tr>\n",
       "      <th>6</th>\n",
       "      <td>num_of_sent_risk</td>\n",
       "      <td>0.034283</td>\n",
       "      <td>0.026709</td>\n",
       "      <td>0.004448</td>\n",
       "      <td>0.030130</td>\n",
       "      <td>0.009181</td>\n",
       "      <td>0.006213</td>\n",
       "      <td>0.001043</td>\n",
       "      <td>0.007989</td>\n",
       "      <td>0.076214</td>\n",
       "    </tr>\n",
       "    <tr>\n",
       "      <th>15</th>\n",
       "      <td>num_of_exclamation_R</td>\n",
       "      <td>0.035200</td>\n",
       "      <td>0.012754</td>\n",
       "      <td>0.003396</td>\n",
       "      <td>0.025011</td>\n",
       "      <td>0.009426</td>\n",
       "      <td>0.002967</td>\n",
       "      <td>0.000796</td>\n",
       "      <td>0.006631</td>\n",
       "      <td>0.061844</td>\n",
       "    </tr>\n",
       "    <tr>\n",
       "      <th>1</th>\n",
       "      <td>num_videos</td>\n",
       "      <td>0.003518</td>\n",
       "      <td>0.007804</td>\n",
       "      <td>0.002662</td>\n",
       "      <td>0.008345</td>\n",
       "      <td>0.000942</td>\n",
       "      <td>0.001815</td>\n",
       "      <td>0.000624</td>\n",
       "      <td>0.002213</td>\n",
       "      <td>0.017456</td>\n",
       "    </tr>\n",
       "    <tr>\n",
       "      <th>13</th>\n",
       "      <td>freq_italic_R</td>\n",
       "      <td>0.000000</td>\n",
       "      <td>0.000000</td>\n",
       "      <td>0.000000</td>\n",
       "      <td>0.000000</td>\n",
       "      <td>0.000000</td>\n",
       "      <td>0.000000</td>\n",
       "      <td>0.000000</td>\n",
       "      <td>0.000000</td>\n",
       "      <td>0.000000</td>\n",
       "    </tr>\n",
       "    <tr>\n",
       "      <th>11</th>\n",
       "      <td>freq_bold_R</td>\n",
       "      <td>0.000000</td>\n",
       "      <td>0.000000</td>\n",
       "      <td>0.000000</td>\n",
       "      <td>0.000000</td>\n",
       "      <td>0.000000</td>\n",
       "      <td>0.000000</td>\n",
       "      <td>0.000000</td>\n",
       "      <td>0.000000</td>\n",
       "      <td>0.000000</td>\n",
       "    </tr>\n",
       "  </tbody>\n",
       "</table>\n",
       "</div>"
      ],
      "text/plain": [
       "                   names        RF        AB        DT        ET      RF_t  \\\n",
       "3              num_perks  0.128313  0.041063  0.464832  0.109930  0.034361   \n",
       "17                bool_R  0.036465  0.008839  0.135741  0.110630  0.009765   \n",
       "8     num_of_words_about  0.072891  0.087899  0.033709  0.061699  0.019519   \n",
       "0                   code  0.052302  0.048421  0.075838  0.061115  0.014006   \n",
       "21          words_x_perk  0.056557  0.096755  0.012680  0.045556  0.015145   \n",
       "10           freq_bold_A  0.053751  0.057771  0.052542  0.045563  0.014394   \n",
       "20          freq_pitch_P  0.055440  0.080241  0.025293  0.046962  0.014846   \n",
       "18          freq_pitch_A  0.052765  0.099220  0.012849  0.038672  0.014130   \n",
       "7      num_of_sent_perks  0.074163  0.037655  0.010570  0.062312  0.019860   \n",
       "5      num_of_sent_about  0.064712  0.041932  0.018330  0.060328  0.017329   \n",
       "9      num_of_words_risk  0.061865  0.077259  0.008851  0.030018  0.016567   \n",
       "12         freq_italic_A  0.037938  0.064383  0.035750  0.036475  0.010159   \n",
       "2               num_pics  0.033300  0.041411  0.039309  0.049745  0.008917   \n",
       "14  num_of_exclamation_A  0.034891  0.033349  0.030571  0.053698  0.009343   \n",
       "16  num_of_exclamation_P  0.035963  0.038953  0.014953  0.049726  0.009631   \n",
       "4              num_links  0.034642  0.038023  0.015585  0.044586  0.009277   \n",
       "19          freq_pitch_R  0.041041  0.059560  0.002088  0.029499  0.010990   \n",
       "6       num_of_sent_risk  0.034283  0.026709  0.004448  0.030130  0.009181   \n",
       "15  num_of_exclamation_R  0.035200  0.012754  0.003396  0.025011  0.009426   \n",
       "1             num_videos  0.003518  0.007804  0.002662  0.008345  0.000942   \n",
       "13         freq_italic_R  0.000000  0.000000  0.000000  0.000000  0.000000   \n",
       "11           freq_bold_R  0.000000  0.000000  0.000000  0.000000  0.000000   \n",
       "\n",
       "        AB_t      DT_t      ET_t     total  \n",
       "3   0.009553  0.108976  0.029146  0.567995  \n",
       "17  0.002056  0.031823  0.029332  0.227706  \n",
       "8   0.020448  0.007903  0.016359  0.200410  \n",
       "0   0.011264  0.017780  0.016204  0.184886  \n",
       "21  0.022508  0.002973  0.012079  0.164453  \n",
       "10  0.013439  0.012318  0.012080  0.162976  \n",
       "20  0.018667  0.005930  0.012451  0.161921  \n",
       "18  0.023082  0.003012  0.010253  0.157503  \n",
       "7   0.008760  0.002478  0.016521  0.148583  \n",
       "5   0.009755  0.004297  0.015995  0.147825  \n",
       "9   0.017973  0.002075  0.007959  0.139081  \n",
       "12  0.014978  0.008381  0.009671  0.134761  \n",
       "2   0.009634  0.009216  0.013189  0.127793  \n",
       "14  0.007758  0.007167  0.014237  0.120147  \n",
       "16  0.009062  0.003506  0.013184  0.110401  \n",
       "4   0.008846  0.003654  0.011822  0.104833  \n",
       "19  0.013856  0.000489  0.007821  0.103458  \n",
       "6   0.006213  0.001043  0.007989  0.076214  \n",
       "15  0.002967  0.000796  0.006631  0.061844  \n",
       "1   0.001815  0.000624  0.002213  0.017456  \n",
       "13  0.000000  0.000000  0.000000  0.000000  \n",
       "11  0.000000  0.000000  0.000000  0.000000  "
      ]
     },
     "execution_count": 172,
     "metadata": {},
     "output_type": "execute_result"
    }
   ],
   "source": [
    "feature_final"
   ]
  },
  {
   "cell_type": "code",
   "execution_count": 195,
   "metadata": {},
   "outputs": [
    {
     "data": {
      "image/png": "[encoded data removed]",
      "text/plain": [
       "<Figure size 576x432 with 1 Axes>"
      ]
     },
     "metadata": {},
     "output_type": "display_data"
    }
   ],
   "source": [
    "plt.figure(figsize=(8,6))\n",
    "plt.bar(x_values,feature_final[\"RF_t\"],label=\"RF\")\n",
    "plt.bar(x_values,feature_final[\"ET_t\"],bottom=feature_final[\"RF_t\"],label=\"ET\")\n",
    "plt.bar(x_values,feature_final[\"AB_t\"],bottom=feature_final[\"RF_t\"]+feature_final[\"ET_t\"],label=\"AB\")\n",
    "plt.bar(x_values,feature_final[\"DT_t\"],bottom=feature_final[\"RF_t\"]+feature_final[\"AB_t\"]+feature_final[\"ET_t\"],label=\"DT\")\n",
    "plt.legend()\n",
    "plt.xticks(np.array(x_values), names, rotation=\"vertical\")\n",
    "plt.ylabel('Importance'); plt.xlabel('Feature'); plt.title('Weighted Feature Importance')\n",
    "plt.savefig(\"featture_importance.jpg\",bbox_inches='tight')"
   ]
  },
  {
   "cell_type": "code",
   "execution_count": 769,
   "metadata": {},
   "outputs": [
    {
     "data": {
      "image/png": "[encoded data removed]",
      "text/plain": [
       "<Figure size 1080x1080 with 6 Axes>"
      ]
     },
     "metadata": {},
     "output_type": "display_data"
    }
   ],
   "source": [
    "plt.figure(figsize=(15, 15))\n",
    "\n",
    "plt.subplot(431)\n",
    "plt.bar([1,2,3],[np.mean(features1_F[\"num_perks\"]),0,0],color=\"g\")\n",
    "plt.bar([1,2,3],[0,np.mean(features1_UF[\"num_perks\"]),0],color=\"r\")\n",
    "plt.bar([1,2,3],[0,0,ff[\"num_perks\"]],color=\"b\")\n",
    "plt.xticks([1,2,3], cate, rotation=\"horizontal\")\n",
    "plt.title(\"Number of Perks\")\n",
    "\n",
    "\n",
    "plt.subplot(432) # equivalent to: plt.subplot(2, 2, 1)\n",
    "plt.bar([1,2,3],[np.mean(features1_F[\"num_of_words_about\"]),0,0],color=\"g\")\n",
    "plt.bar([1,2,3],[0,np.mean(features1_UF[\"num_of_words_about\"]),0],color=\"r\")\n",
    "plt.bar([1,2,3],[0,0,ff[\"num_of_words_about\"]],color=\"b\")\n",
    "plt.xticks([1,2,3], cate, rotation=\"horizontal\")\n",
    "plt.title(\"Number of Words \")\n",
    "#plt.grid(\"false\")\n",
    "\n",
    "\n",
    "\n",
    "plt.subplot(433) # equivalent to: plt.subplot(2, 2, 1)\n",
    "plt.bar([1,2,3],[np.mean(features1_F[\"freq_bold_A\"]),0,0],color=\"g\")\n",
    "plt.bar([1,2,3],[0,np.mean(features1_UF[\"freq_bold_A\"]),0],color=\"r\")\n",
    "plt.bar([1,2,3],[0,0,ff[\"freq_bold_A\"]],color=\"b\")\n",
    "plt.xticks([1,2,3], cate, rotation=\"horizontal\")\n",
    "plt.title(\"freq_bold_A\")\n",
    "#plt.grid(\"false\")\n",
    "\n",
    "#plt.subplot(434) # equivalent to: plt.subplot(2, 2, 1)\n",
    "#plt.bar([1,2,3],[np.mean(features1_F[\"freq_pitch_A\"]),0,0],color=\"g\")\n",
    "#plt.bar([1,2,3],[0,np.mean(features1_UF[\"freq_pitch_A\"]),0],color=\"r\")\n",
    "#plt.bar([1,2,3],[0,0,ff[\"freq_pitch_A\"]],color=\"b\")\n",
    "#plt.xticks([1,2,3], cate, rotation=\"horizontal\")\n",
    "#plt.title(\"freq_pitch_A\")\n",
    "#plt.grid(\"false\")\n",
    "\n",
    "\n",
    "#plt.subplot(435) # equivalent to: plt.subplot(2, 2, 1)\n",
    "#plt.bar([1,2,3],[np.mean(features1_F[\"freq_pitch_P\"]),0,0],color=\"g\")\n",
    "#plt.bar([1,2,3],[0,np.mean(features1_UF[\"freq_pitch_P\"]),0],color=\"r\")\n",
    "#plt.bar([1,2,3],[0,0,ff[\"freq_pitch_P\"]],color=\"b\")\n",
    "#plt.xticks([1,2,3], cate, rotation=\"horizontal\")\n",
    "#plt.title(\"freq_pitch_P\")\n",
    "#plt.grid(\"false\")\n",
    "\n",
    "\n",
    "plt.subplot(434) # equivalent to: plt.subplot(2, 2, 1)\n",
    "plt.bar([1,2,3],[np.mean(features1_F[\"words_x_perk\"]),0,0],color=\"g\")\n",
    "plt.bar([1,2,3],[0,np.mean(features1_UF[\"words_x_perk\"]),0],color=\"r\")\n",
    "plt.bar([1,2,3],[0,0,ff[\"words_x_perk\"]],color=\"b\")\n",
    "plt.xticks([1,2,3], cate, rotation=\"horizontal\")\n",
    "plt.title(\"words_x_perk\")\n",
    "#plt.grid(\"false\")\n",
    "\n",
    "plt.subplot(435) # equivalent to: plt.subplot(2, 2, 1)\n",
    "plt.bar([1,2,3],[np.mean(features1_F[\"num_pics\"]),0,0],color=\"g\")\n",
    "plt.bar([1,2,3],[0,np.mean(features1_UF[\"num_pics\"]),0],color=\"r\")\n",
    "plt.bar([1,2,3],[0,0,ff[\"num_pics\"]],color=\"b\")\n",
    "plt.xticks([1,2,3], cate, rotation=\"horizontal\")\n",
    "plt.title(\"Number of Pictures\")\n",
    "#plt.grid(\"false\")\n",
    "\n",
    "#plt.subplot(438) # equivalent to: plt.subplot(2, 2, 1)\n",
    "#plt.bar([1,2,3],[np.mean(features1_F[\"freq_italic_A\"]),0,0],color=\"g\")\n",
    "#plt.bar([1,2,3],[0,np.mean(features1_UF[\"freq_italic_A\"]),0],color=\"r\")\n",
    "#plt.bar([1,2,3],[0,0,ff[\"freq_italic_A\"]],color=\"b\")\n",
    "#plt.xticks([1,2,3], cate, rotation=\"horizontal\")\n",
    "#plt.title(\"freq_italic_A\")\n",
    "#plt.grid(\"false\")\n",
    "\n",
    "\n",
    "\n",
    "#plt.subplot(4,3,9) # equivalent to: plt.subplot(2, 2, 1)\n",
    "#plt.bar([1,2,3],[np.mean(features1_F[\"num_of_exclamation_A\"]),0,0],color=\"g\")\n",
    "#plt.bar([1,2,3],[0,np.mean(features1_UF[\"num_of_exclamation_A\"]),0],color=\"r\")\n",
    "#plt.bar([1,2,3],[0,0,ff[\"num_of_exclamation_A\"]],color=\"b\")\n",
    "#plt.xticks([1,2,3], cate, rotation=\"horizontal\")\n",
    "#plt.title(\"num_of_exclamation_A\")\n",
    "#plt.grid(\"false\")\n",
    "\n",
    "\n",
    "plt.subplot(4,3,6) # equivalent to: plt.subplot(2, 2, 1)\n",
    "plt.bar([1,2,3],[np.mean(features1_F[\"num_links\"]),0,0],color=\"g\")\n",
    "plt.bar([1,2,3],[0,np.mean(features1_UF[\"num_links\"]),0],color=\"r\")\n",
    "plt.bar([1,2,3],[0,0,ff[\"num_links\"]],color=\"b\")\n",
    "plt.xticks([1,2,3], cate, rotation=\"horizontal\")\n",
    "plt.title(\"num_links\")\n",
    "\n",
    "#plt.subplot(4,3,11) # equivalent to: plt.subplot(2, 2, 1)\n",
    "#plt.bar([1,2,3],[np.mean(features1_F[\"num_of_exclamation_P\"]),0,0],color=\"g\")\n",
    "#plt.bar([1,2,3],[0,np.mean(features1_UF[\"num_of_exclamation_P\"]),0],color=\"r\")\n",
    "#plt.bar([1,2,3],[0,0,ff[\"num_of_exclamation_P\"]],color=\"b\")\n",
    "#plt.xticks([1,2,3], cate, rotation=\"horizontal\")\n",
    "#plt.title(\"num_of_exclamation_P\")\n",
    "#plt.grid(\"false\")\n",
    "plt.subplots_adjust(top = 0.99, bottom=0.01, hspace=0.3, wspace=0.4)\n",
    "\n",
    "#plt.subplot(4,3,12) # equivalent to: plt.subplot(2, 2, 1)\n",
    "#plt.bar([1,2,3],[np.mean(features1_F[\"num_of_sent_risk\"]),0,0],color=\"g\")\n",
    "#plt.bar([1,2,3],[0,np.mean(features1_UF[\"num_of_sent_risk\"]),0],color=\"r\")\n",
    "#plt.bar([1,2,3],[0,0,ff[\"num_of_sent_risk\"]],color=\"b\")\n",
    "#plt.xticks([1,2,3], cate, rotation=\"horizontal\")\n",
    "#plt.title(\"num_of_sent_risk\")"
   ]
  },
  {
   "cell_type": "code",
   "execution_count": null,
   "metadata": {},
   "outputs": [],
   "source": []
  }
 ],
 "metadata": {
  "anaconda-cloud": {},
  "kernelspec": {
   "display_name": "Python [Root]",
   "language": "python",
   "name": "Python [Root]"
  },
  "language_info": {
   "codemirror_mode": {
    "name": "ipython",
    "version": 3
   },
   "file_extension": ".py",
   "mimetype": "text/x-python",
   "name": "python",
   "nbconvert_exporter": "python",
   "pygments_lexer": "ipython3",
   "version": "3.5.5"
  }
 },
 "nbformat": 4,
 "nbformat_minor": 2
}
